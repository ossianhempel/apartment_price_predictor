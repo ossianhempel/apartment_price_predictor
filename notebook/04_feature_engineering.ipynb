{
 "cells": [
  {
   "cell_type": "code",
   "execution_count": 1,
   "metadata": {},
   "outputs": [
    {
     "name": "stderr",
     "output_type": "stream",
     "text": [
      "/var/folders/t_/0sss_n354p10j1d1j41c4ml00000gn/T/ipykernel_33833/2721594553.py:1: DeprecationWarning: \n",
      "Pyarrow will become a required dependency of pandas in the next major release of pandas (pandas 3.0),\n",
      "(to allow more performant data types, such as the Arrow string type, and better interoperability with other libraries)\n",
      "but was not found to be installed on your system.\n",
      "If this would cause problems for you,\n",
      "please provide us feedback at https://github.com/pandas-dev/pandas/issues/54466\n",
      "        \n",
      "  import pandas as pd\n"
     ]
    }
   ],
   "source": [
    "import pandas as pd\n",
    "import numpy as np\n",
    "import seaborn as sns\n",
    "import matplotlib.pyplot as plt\n",
    "import plotly.express as px\n",
    "import scipy.stats as stats\n",
    "from sklearn.linear_model import LinearRegression\n",
    "from sklearn.model_selection import train_test_split\n",
    "from sklearn.metrics import mean_squared_error, r2_score, mean_absolute_error\n",
    "from sklearn.preprocessing import StandardScaler, MinMaxScaler\n",
    "from statsmodels.graphics.gofplots import qqplot\n",
    "from numpy.linalg import inv\n",
    "from joblib import dump, load\n",
    "from sklearn.impute import SimpleImputer"
   ]
  },
  {
   "cell_type": "markdown",
   "metadata": {},
   "source": [
    "# *1. Baseline Model*"
   ]
  },
  {
   "cell_type": "markdown",
   "metadata": {},
   "source": [
    "### Retrieve Data"
   ]
  },
  {
   "cell_type": "code",
   "execution_count": 2,
   "metadata": {},
   "outputs": [
    {
     "data": {
      "text/html": [
       "<div>\n",
       "<style scoped>\n",
       "    .dataframe tbody tr th:only-of-type {\n",
       "        vertical-align: middle;\n",
       "    }\n",
       "\n",
       "    .dataframe tbody tr th {\n",
       "        vertical-align: top;\n",
       "    }\n",
       "\n",
       "    .dataframe thead th {\n",
       "        text-align: right;\n",
       "    }\n",
       "</style>\n",
       "<table border=\"1\" class=\"dataframe\">\n",
       "  <thead>\n",
       "    <tr style=\"text-align: right;\">\n",
       "      <th></th>\n",
       "      <th>number_of_rooms</th>\n",
       "      <th>area_size</th>\n",
       "      <th>has_elevator</th>\n",
       "      <th>year_built</th>\n",
       "      <th>annual_fee_sek</th>\n",
       "      <th>annual_cost_sek</th>\n",
       "      <th>region_processed_bromma</th>\n",
       "      <th>region_processed_centrala sundbyberg</th>\n",
       "      <th>region_processed_gröndal</th>\n",
       "      <th>region_processed_hammarby sjöstad</th>\n",
       "      <th>...</th>\n",
       "      <th>region_processed_östermalm</th>\n",
       "      <th>has_balcony_nej</th>\n",
       "      <th>has_balcony_unknown</th>\n",
       "      <th>cleaned_floor_number</th>\n",
       "      <th>brokerage_firm_processed_erik olsson fastighetsförmedling</th>\n",
       "      <th>brokerage_firm_processed_fastighetsbyrån stockholm - södermalm</th>\n",
       "      <th>brokerage_firm_processed_länsförsäkringar fastighetsförmedling solna</th>\n",
       "      <th>brokerage_firm_processed_notar</th>\n",
       "      <th>brokerage_firm_processed_tradition mäkleri</th>\n",
       "      <th>price_sold_sek</th>\n",
       "    </tr>\n",
       "  </thead>\n",
       "  <tbody>\n",
       "    <tr>\n",
       "      <th>0</th>\n",
       "      <td>3.0</td>\n",
       "      <td>74</td>\n",
       "      <td>False</td>\n",
       "      <td>1953.0</td>\n",
       "      <td>4899</td>\n",
       "      <td>9000</td>\n",
       "      <td>False</td>\n",
       "      <td>False</td>\n",
       "      <td>False</td>\n",
       "      <td>False</td>\n",
       "      <td>...</td>\n",
       "      <td>False</td>\n",
       "      <td>False</td>\n",
       "      <td>False</td>\n",
       "      <td>2.0</td>\n",
       "      <td>False</td>\n",
       "      <td>False</td>\n",
       "      <td>False</td>\n",
       "      <td>False</td>\n",
       "      <td>False</td>\n",
       "      <td>4400000</td>\n",
       "    </tr>\n",
       "    <tr>\n",
       "      <th>1</th>\n",
       "      <td>1.0</td>\n",
       "      <td>25</td>\n",
       "      <td>True</td>\n",
       "      <td>1961.0</td>\n",
       "      <td>2265</td>\n",
       "      <td>3120</td>\n",
       "      <td>False</td>\n",
       "      <td>False</td>\n",
       "      <td>False</td>\n",
       "      <td>False</td>\n",
       "      <td>...</td>\n",
       "      <td>False</td>\n",
       "      <td>False</td>\n",
       "      <td>True</td>\n",
       "      <td>4.0</td>\n",
       "      <td>False</td>\n",
       "      <td>False</td>\n",
       "      <td>False</td>\n",
       "      <td>False</td>\n",
       "      <td>False</td>\n",
       "      <td>1015000</td>\n",
       "    </tr>\n",
       "    <tr>\n",
       "      <th>2</th>\n",
       "      <td>1.0</td>\n",
       "      <td>40</td>\n",
       "      <td>True</td>\n",
       "      <td>1955.0</td>\n",
       "      <td>3250</td>\n",
       "      <td>4500</td>\n",
       "      <td>False</td>\n",
       "      <td>False</td>\n",
       "      <td>False</td>\n",
       "      <td>False</td>\n",
       "      <td>...</td>\n",
       "      <td>False</td>\n",
       "      <td>False</td>\n",
       "      <td>False</td>\n",
       "      <td>2.0</td>\n",
       "      <td>False</td>\n",
       "      <td>False</td>\n",
       "      <td>False</td>\n",
       "      <td>False</td>\n",
       "      <td>False</td>\n",
       "      <td>1395000</td>\n",
       "    </tr>\n",
       "    <tr>\n",
       "      <th>3</th>\n",
       "      <td>1.0</td>\n",
       "      <td>31</td>\n",
       "      <td>True</td>\n",
       "      <td>1963.0</td>\n",
       "      <td>1290</td>\n",
       "      <td>6804</td>\n",
       "      <td>False</td>\n",
       "      <td>False</td>\n",
       "      <td>False</td>\n",
       "      <td>False</td>\n",
       "      <td>...</td>\n",
       "      <td>False</td>\n",
       "      <td>False</td>\n",
       "      <td>False</td>\n",
       "      <td>1.0</td>\n",
       "      <td>False</td>\n",
       "      <td>False</td>\n",
       "      <td>False</td>\n",
       "      <td>True</td>\n",
       "      <td>False</td>\n",
       "      <td>3150000</td>\n",
       "    </tr>\n",
       "    <tr>\n",
       "      <th>4</th>\n",
       "      <td>1.0</td>\n",
       "      <td>40</td>\n",
       "      <td>True</td>\n",
       "      <td>1972.0</td>\n",
       "      <td>2947</td>\n",
       "      <td>4200</td>\n",
       "      <td>False</td>\n",
       "      <td>False</td>\n",
       "      <td>False</td>\n",
       "      <td>False</td>\n",
       "      <td>...</td>\n",
       "      <td>False</td>\n",
       "      <td>False</td>\n",
       "      <td>False</td>\n",
       "      <td>1.0</td>\n",
       "      <td>False</td>\n",
       "      <td>False</td>\n",
       "      <td>False</td>\n",
       "      <td>False</td>\n",
       "      <td>False</td>\n",
       "      <td>1750000</td>\n",
       "    </tr>\n",
       "  </tbody>\n",
       "</table>\n",
       "<p>5 rows × 25 columns</p>\n",
       "</div>"
      ],
      "text/plain": [
       "   number_of_rooms  area_size  has_elevator  year_built  annual_fee_sek  \\\n",
       "0              3.0         74         False      1953.0            4899   \n",
       "1              1.0         25          True      1961.0            2265   \n",
       "2              1.0         40          True      1955.0            3250   \n",
       "3              1.0         31          True      1963.0            1290   \n",
       "4              1.0         40          True      1972.0            2947   \n",
       "\n",
       "   annual_cost_sek  region_processed_bromma  \\\n",
       "0             9000                    False   \n",
       "1             3120                    False   \n",
       "2             4500                    False   \n",
       "3             6804                    False   \n",
       "4             4200                    False   \n",
       "\n",
       "   region_processed_centrala sundbyberg  region_processed_gröndal  \\\n",
       "0                                 False                     False   \n",
       "1                                 False                     False   \n",
       "2                                 False                     False   \n",
       "3                                 False                     False   \n",
       "4                                 False                     False   \n",
       "\n",
       "   region_processed_hammarby sjöstad  ...  region_processed_östermalm  \\\n",
       "0                              False  ...                       False   \n",
       "1                              False  ...                       False   \n",
       "2                              False  ...                       False   \n",
       "3                              False  ...                       False   \n",
       "4                              False  ...                       False   \n",
       "\n",
       "   has_balcony_nej  has_balcony_unknown  cleaned_floor_number  \\\n",
       "0            False                False                   2.0   \n",
       "1            False                 True                   4.0   \n",
       "2            False                False                   2.0   \n",
       "3            False                False                   1.0   \n",
       "4            False                False                   1.0   \n",
       "\n",
       "   brokerage_firm_processed_erik olsson fastighetsförmedling  \\\n",
       "0                                              False           \n",
       "1                                              False           \n",
       "2                                              False           \n",
       "3                                              False           \n",
       "4                                              False           \n",
       "\n",
       "   brokerage_firm_processed_fastighetsbyrån stockholm - södermalm  \\\n",
       "0                                              False                \n",
       "1                                              False                \n",
       "2                                              False                \n",
       "3                                              False                \n",
       "4                                              False                \n",
       "\n",
       "   brokerage_firm_processed_länsförsäkringar fastighetsförmedling solna  \\\n",
       "0                                              False                      \n",
       "1                                              False                      \n",
       "2                                              False                      \n",
       "3                                              False                      \n",
       "4                                              False                      \n",
       "\n",
       "   brokerage_firm_processed_notar  brokerage_firm_processed_tradition mäkleri  \\\n",
       "0                           False                                       False   \n",
       "1                           False                                       False   \n",
       "2                           False                                       False   \n",
       "3                            True                                       False   \n",
       "4                           False                                       False   \n",
       "\n",
       "   price_sold_sek  \n",
       "0         4400000  \n",
       "1         1015000  \n",
       "2         1395000  \n",
       "3         3150000  \n",
       "4         1750000  \n",
       "\n",
       "[5 rows x 25 columns]"
      ]
     },
     "execution_count": 2,
     "metadata": {},
     "output_type": "execute_result"
    }
   ],
   "source": [
    "df_baseline = pd.read_csv('./data/processed_scraped_apartment_sales_baseline.csv')\n",
    "df = pd.read_csv('./data/processed_scraped_apartment_sales_processed.csv')\n",
    "\n",
    "df_baseline = df_baseline.drop('Unnamed: 0', axis=1)\n",
    "df = df.drop('Unnamed: 0', axis=1)\n",
    "#df = df.drop(['broker', 'brokerage_firm', 'region', 'floor_number'], axis=1)\n",
    "df = df.drop(['broker', 'brokerage_firm'], axis=1)\n",
    "\n",
    "\n",
    "df_baseline.head()"
   ]
  },
  {
   "cell_type": "code",
   "execution_count": 3,
   "metadata": {},
   "outputs": [],
   "source": [
    "X = df_baseline.drop('price_sold_sek', axis=1)\n",
    "y = df_baseline['price_sold_sek']"
   ]
  },
  {
   "cell_type": "markdown",
   "metadata": {},
   "source": [
    "### Split Data"
   ]
  },
  {
   "cell_type": "code",
   "execution_count": 4,
   "metadata": {},
   "outputs": [],
   "source": [
    "X_train, X_test, y_train, y_test = train_test_split(X, y, random_state=13)"
   ]
  },
  {
   "cell_type": "markdown",
   "metadata": {},
   "source": [
    "### Load Baseline Model and Predict"
   ]
  },
  {
   "cell_type": "code",
   "execution_count": 5,
   "metadata": {},
   "outputs": [],
   "source": [
    "baseline_model = load('../src/models/baseline_model.joblib')"
   ]
  },
  {
   "cell_type": "code",
   "execution_count": 6,
   "metadata": {},
   "outputs": [],
   "source": [
    "baseline_predictions = baseline_model.predict(X_test)"
   ]
  },
  {
   "cell_type": "code",
   "execution_count": 7,
   "metadata": {},
   "outputs": [],
   "source": [
    "def evaluate_model(observed_values, predictions):\n",
    "    mse = mean_squared_error(observed_values, predictions)\n",
    "    rmse = mean_squared_error(observed_values, predictions, squared=False)\n",
    "    mae = mean_absolute_error(observed_values, predictions)\n",
    "    r2 = r2_score(observed_values, predictions)\n",
    "\n",
    "    print(f\"MSE: {mse} \\nRMSE: {rmse} \\nMAE: {mae} \\nR-squared: {r2}\")"
   ]
  },
  {
   "cell_type": "code",
   "execution_count": 8,
   "metadata": {},
   "outputs": [
    {
     "name": "stdout",
     "output_type": "stream",
     "text": [
      "Baseline results:\n",
      "MSE: 3404845047266.328 \n",
      "RMSE: 1845222.2216487445 \n",
      "MAE: 1363035.2040760939 \n",
      "R-squared: 0.5441301212408783\n"
     ]
    },
    {
     "name": "stderr",
     "output_type": "stream",
     "text": [
      "/Users/ossianhempel/repos/apartment_price_predictor/venv/lib/python3.10/site-packages/sklearn/metrics/_regression.py:483: FutureWarning: 'squared' is deprecated in version 1.4 and will be removed in 1.6. To calculate the root mean squared error, use the function'root_mean_squared_error'.\n",
      "  warnings.warn(\n"
     ]
    }
   ],
   "source": [
    "print('Baseline results:')\n",
    "evaluate_model(y_test, baseline_predictions)"
   ]
  },
  {
   "cell_type": "markdown",
   "metadata": {},
   "source": [
    "# *2. Impute Missing Data*"
   ]
  },
  {
   "cell_type": "code",
   "execution_count": 9,
   "metadata": {},
   "outputs": [
    {
     "data": {
      "text/plain": [
       "Index(['region', 'price_sold_sek', 'number_of_rooms', 'area_size',\n",
       "       'floor_number', 'has_elevator', 'year_built', 'annual_fee_sek',\n",
       "       'annual_cost_sek', 'region_processed_bromma',\n",
       "       'region_processed_centrala sundbyberg', 'region_processed_gröndal',\n",
       "       'region_processed_hammarby sjöstad', 'region_processed_kungsholmen',\n",
       "       'region_processed_råsunda', 'region_processed_södermalm',\n",
       "       'region_processed_vasastan', 'region_processed_årsta',\n",
       "       'region_processed_östermalm', 'has_balcony_nej', 'has_balcony_unknown',\n",
       "       'cleaned_floor_number',\n",
       "       'brokerage_firm_processed_erik olsson fastighetsförmedling',\n",
       "       'brokerage_firm_processed_fastighetsbyrån stockholm - södermalm',\n",
       "       'brokerage_firm_processed_länsförsäkringar fastighetsförmedling solna',\n",
       "       'brokerage_firm_processed_notar',\n",
       "       'brokerage_firm_processed_tradition mäkleri'],\n",
       "      dtype='object')"
      ]
     },
     "execution_count": 9,
     "metadata": {},
     "output_type": "execute_result"
    }
   ],
   "source": [
    "df.columns"
   ]
  },
  {
   "cell_type": "code",
   "execution_count": 10,
   "metadata": {},
   "outputs": [
    {
     "data": {
      "text/plain": [
       "region                                                                    0\n",
       "price_sold_sek                                                            0\n",
       "number_of_rooms                                                           0\n",
       "area_size                                                                 0\n",
       "floor_number                                                              0\n",
       "has_elevator                                                              0\n",
       "year_built                                                                0\n",
       "annual_fee_sek                                                            0\n",
       "annual_cost_sek                                                           0\n",
       "region_processed_bromma                                                   0\n",
       "region_processed_centrala sundbyberg                                      0\n",
       "region_processed_gröndal                                                  0\n",
       "region_processed_hammarby sjöstad                                         0\n",
       "region_processed_kungsholmen                                              0\n",
       "region_processed_råsunda                                                  0\n",
       "region_processed_södermalm                                                0\n",
       "region_processed_vasastan                                                 0\n",
       "region_processed_årsta                                                    0\n",
       "region_processed_östermalm                                                0\n",
       "has_balcony_nej                                                           0\n",
       "has_balcony_unknown                                                       0\n",
       "cleaned_floor_number                                                    224\n",
       "brokerage_firm_processed_erik olsson fastighetsförmedling                 0\n",
       "brokerage_firm_processed_fastighetsbyrån stockholm - södermalm            0\n",
       "brokerage_firm_processed_länsförsäkringar fastighetsförmedling solna      0\n",
       "brokerage_firm_processed_notar                                            0\n",
       "brokerage_firm_processed_tradition mäkleri                                0\n",
       "dtype: int64"
      ]
     },
     "execution_count": 10,
     "metadata": {},
     "output_type": "execute_result"
    }
   ],
   "source": [
    "df.isna().sum()"
   ]
  },
  {
   "cell_type": "code",
   "execution_count": 11,
   "metadata": {},
   "outputs": [],
   "source": [
    "import pandas as pd\n",
    "from sklearn.linear_model import LinearRegression\n",
    "from sklearn.model_selection import train_test_split\n",
    "\n",
    "class PredictionBasedImputer:\n",
    "    \"\"\"\n",
    "    A class for imputing missing values in a specified column of a DataFrame using predictive modeling.\n",
    "    This version is adjusted to only consider numerical and binary variables as features for the regression model.\n",
    "\n",
    "    Parameters:\n",
    "    df (pd.DataFrame): The DataFrame containing the data.\n",
    "    target_col (str): The name of the column in the DataFrame for which missing values need to be imputed.\n",
    "    \"\"\"\n",
    "    def __init__(self, df, target_col):\n",
    "        self.df = df.copy()\n",
    "        self.target_col = target_col\n",
    "        self.model = LinearRegression()\n",
    "\n",
    "    def filter_numerical_binary_columns(self, df):\n",
    "        \"\"\"\n",
    "        Filters the DataFrame to include only numerical and binary columns.\n",
    "        \"\"\"\n",
    "        numerical_binary_cols = df.select_dtypes(include=['number']).columns.tolist()\n",
    "        # Optionally, check if binary columns are strictly 0/1 and include them.\n",
    "        # For simplicity, this version considers all numerical columns.\n",
    "        return df[numerical_binary_cols]\n",
    "\n",
    "    def train_model(self):\n",
    "        if self.df[self.target_col].isna().sum() == 0:\n",
    "            raise ValueError(f\"No missing values found in target column '{self.target_col}'.\")\n",
    "\n",
    "        # Filter dataframe for numerical and binary columns\n",
    "        df_filtered = self.filter_numerical_binary_columns(self.df)\n",
    "\n",
    "        # Separate the dataset into rows with and without missing target values\n",
    "        df_with_target = df_filtered[df_filtered[self.target_col].notna()]\n",
    "        df_missing_target = df_filtered[df_filtered[self.target_col].isna()]\n",
    "\n",
    "        X = df_with_target.drop(columns=[self.target_col])\n",
    "        y = df_with_target[self.target_col]\n",
    "\n",
    "        if X.empty:\n",
    "            raise ValueError(\"No numerical or binary data available to train the model.\")\n",
    "\n",
    "        X_train, _, y_train, _ = train_test_split(X, y, test_size=0.2, random_state=42)\n",
    "        self.model.fit(X_train, y_train)\n",
    "\n",
    "        return df_missing_target.drop(columns=[self.target_col])\n",
    "\n",
    "    def impute(self):\n",
    "        df_missing_target = self.train_model()\n",
    "\n",
    "        if df_missing_target.empty:\n",
    "            print(\"No rows with missing target values to impute.\")\n",
    "            return self.df\n",
    "\n",
    "        predicted_values = self.model.predict(df_missing_target)\n",
    "        self.df.loc[self.df[self.target_col].isna(), self.target_col] = predicted_values\n",
    "\n",
    "        return self.df\n",
    "\n",
    "# Example usage\n",
    "imputer = PredictionBasedImputer(df, 'cleaned_floor_number')\n",
    "df = imputer.impute()\n"
   ]
  },
  {
   "cell_type": "markdown",
   "metadata": {},
   "source": [
    "# *3. Process Outliers*"
   ]
  },
  {
   "cell_type": "code",
   "execution_count": 12,
   "metadata": {},
   "outputs": [
    {
     "name": "stdout",
     "output_type": "stream",
     "text": [
      "Column: price_sold_sek\n",
      "Index: 103, Original: 23700000, New: 20000000.0\n",
      "Index: 427, Original: 21900000, New: 20000000.0\n",
      "Index: 473, Original: 9200000, New: 9300000.0\n",
      "Index: 923, Original: 9200000, New: 9300000.0\n",
      "Index: 1094, Original: 23300000, New: 20000000.0\n",
      "Index: 1223, Original: 25600000, New: 20000000.0\n",
      "Index: 1553, Original: 9250000, New: 9300000.0\n",
      "Index: 1912, Original: 9225000, New: 9300000.0\n",
      "Index: 2069, Original: 26500000, New: 20000000.0\n",
      "Column: area_size\n",
      "Index: 73, Original: 1523, New: 1032.5\n",
      "Index: 104, Original: 215.0, New: 287.0\n",
      "Index: 107, Original: 215.0, New: 287.0\n",
      "Index: 215, Original: 1191.0, New: 1032.5\n",
      "Index: 275, Original: 1045.0, New: 1032.5\n",
      "Index: 427, Original: 180.0, New: 287.0\n",
      "Index: 465, Original: 1065.0, New: 1032.5\n",
      "Index: 514, Original: 1085.0, New: 1032.5\n",
      "Index: 542, Original: 180.0, New: 287.0\n",
      "Index: 640, Original: 1388.0, New: 1032.5\n",
      "Index: 703, Original: 1095.0, New: 1032.5\n",
      "Index: 708, Original: 1165.0, New: 1032.5\n",
      "Index: 726, Original: 1283.0, New: 1032.5\n",
      "Index: 896, Original: 255.0, New: 287.0\n",
      "Index: 916, Original: 285.0, New: 287.0\n",
      "Index: 975, Original: 1655.0, New: 1032.5\n",
      "Index: 981, Original: 1045.0, New: 1032.5\n",
      "Index: 1094, Original: 174.0, New: 287.0\n",
      "Index: 1107, Original: 285.0, New: 287.0\n",
      "Index: 1114, Original: 1225.0, New: 1032.5\n",
      "Index: 1120, Original: 225.0, New: 287.0\n",
      "Index: 1122, Original: 184.0, New: 287.0\n",
      "Index: 1223, Original: 203.0, New: 287.0\n",
      "Index: 1268, Original: 1056.0, New: 1032.5\n",
      "Index: 1291, Original: 241.0, New: 287.0\n",
      "Index: 1293, Original: 1095.0, New: 1032.5\n",
      "Index: 1343, Original: 225.0, New: 287.0\n",
      "Index: 1421, Original: 1436.0, New: 1032.5\n",
      "Index: 1522, Original: 215.0, New: 287.0\n",
      "Index: 1524, Original: 232.0, New: 287.0\n",
      "Index: 1553, Original: 1159.0, New: 1032.5\n",
      "Index: 1593, Original: 1718.0, New: 1032.5\n",
      "Index: 1646, Original: 236.0, New: 287.0\n",
      "Index: 1696, Original: 245.0, New: 287.0\n",
      "Index: 1843, Original: 256.0, New: 287.0\n",
      "Index: 2057, Original: 1037.0, New: 1032.5\n",
      "Index: 2059, Original: 1085.0, New: 1032.5\n",
      "Index: 2069, Original: 181.0, New: 287.0\n",
      "Column: annual_fee_sek\n",
      "Index: 1370, Original: 7709, New: 7868.2\n",
      "Index: 1593, Original: 10258.0, New: 10051.6\n",
      "Column: annual_cost_sek\n",
      "Index: 73, Original: 41316, New: 40286.399999999994\n",
      "Index: 361, Original: 47340.0, New: 40286.399999999994\n",
      "Index: 1214, Original: 18400.0, New: 18424.0\n",
      "Index: 1727, Original: 18264.0, New: 18424.0\n",
      "Column: cleaned_floor_number\n",
      "Index: 434, Original: 20.0, New: 15.0\n",
      "Index: 1656, Original: -2.0, New: 8.0\n",
      "Index: 2082, Original: 27.0, New: 15.0\n"
     ]
    },
    {
     "name": "stderr",
     "output_type": "stream",
     "text": [
      "/var/folders/t_/0sss_n354p10j1d1j41c4ml00000gn/T/ipykernel_33833/302766053.py:54: FutureWarning: Setting an item of incompatible dtype is deprecated and will raise an error in a future version of pandas. Value '1032.5' has dtype incompatible with int64, please explicitly cast to a compatible dtype first.\n",
      "  series.loc[idx] = val\n",
      "/var/folders/t_/0sss_n354p10j1d1j41c4ml00000gn/T/ipykernel_33833/302766053.py:54: FutureWarning: Setting an item of incompatible dtype is deprecated and will raise an error in a future version of pandas. Value '7868.2' has dtype incompatible with int64, please explicitly cast to a compatible dtype first.\n",
      "  series.loc[idx] = val\n",
      "/var/folders/t_/0sss_n354p10j1d1j41c4ml00000gn/T/ipykernel_33833/302766053.py:54: FutureWarning: Setting an item of incompatible dtype is deprecated and will raise an error in a future version of pandas. Value '40286.399999999994' has dtype incompatible with int64, please explicitly cast to a compatible dtype first.\n",
      "  series.loc[idx] = val\n"
     ]
    }
   ],
   "source": [
    "def quantile_based_flooring_and_outlier_tracking(df_or_series, lwr=5, upr=95):\n",
    "    \"\"\"\n",
    "    Apply quantile based flooring to outliers in a DataFrame or Series.\n",
    "    Outliers are identified using the IQR method and replaced using quantile flooring.\n",
    "    Skips boolean and non-numeric columns. Tracks and prints the changes made.\n",
    "\n",
    "    Parameters:\n",
    "    df_or_series (pd.DataFrame or pd.Series): DataFrame or Series to process.\n",
    "    lwr (int): Lower percentile for flooring.\n",
    "    upr (int): Upper percentile for flooring.\n",
    "    \"\"\"\n",
    "    def quantile_based_flooring(series, lwr, upr):\n",
    "        if series.empty:\n",
    "            return series  # Return empty series as is\n",
    "\n",
    "        tenth_percentile = np.percentile(series, lwr)\n",
    "        ninetieth_percentile = np.percentile(series, upr)\n",
    "        output = np.where(series < tenth_percentile, tenth_percentile, series)\n",
    "        output = np.where(output > ninetieth_percentile, ninetieth_percentile, output)\n",
    "        return output\n",
    "\n",
    "    changes = {}  # Dictionary to track changes\n",
    "\n",
    "    if isinstance(df_or_series, pd.Series):\n",
    "        df_or_series = pd.DataFrame(df_or_series)\n",
    "\n",
    "    for column in df_or_series.columns:\n",
    "        # Skip non-numeric and boolean columns\n",
    "        if pd.api.types.is_numeric_dtype(df_or_series[column]) and not pd.api.types.is_bool_dtype(df_or_series[column]):\n",
    "            series = df_or_series[column].copy()\n",
    "\n",
    "            # Calculate Q1 (25th percentile) and Q3 (75th percentile)\n",
    "            Q1 = series.quantile(0.25)\n",
    "            Q3 = series.quantile(0.75)\n",
    "            IQR = Q3 - Q1\n",
    "\n",
    "            # Define bounds for outliers\n",
    "            lower_bound = Q1 - 1.5 * IQR\n",
    "            upper_bound = Q3 + 1.5 * IQR\n",
    "\n",
    "            # Identify outliers\n",
    "            outliers = series[(series < lower_bound) | (series > upper_bound)]\n",
    "            \n",
    "            # Skip if no outliers are found\n",
    "            if outliers.empty:\n",
    "                continue\n",
    "\n",
    "            flooring_values = quantile_based_flooring(outliers, lwr, upr)\n",
    "\n",
    "            # Track changes\n",
    "            for idx, val in zip(outliers.index, flooring_values):\n",
    "                if series.loc[idx] != val:\n",
    "                    changes.setdefault(column, []).append((idx, series.loc[idx], val))\n",
    "                    series.loc[idx] = val\n",
    "\n",
    "            # Update the DataFrame or Series\n",
    "            df_or_series[column] = series\n",
    "\n",
    "    # Display changes\n",
    "    for column, column_changes in changes.items():\n",
    "        print(f\"Column: {column}\")\n",
    "        for change in column_changes:\n",
    "            print(f\"Index: {change[0]}, Original: {change[1]}, New: {change[2]}\")\n",
    "\n",
    "# Example usage\n",
    "quantile_based_flooring_and_outlier_tracking(df)"
   ]
  },
  {
   "cell_type": "markdown",
   "metadata": {},
   "source": [
    "### Train Model"
   ]
  },
  {
   "cell_type": "code",
   "execution_count": 13,
   "metadata": {},
   "outputs": [],
   "source": [
    "X = df.drop(['price_sold_sek', 'region', 'floor_number'], axis=1)\n",
    "y = df[['price_sold_sek']]\n",
    "\n",
    "X_train, X_test, y_train, y_test = train_test_split(X, y, random_state=13)"
   ]
  },
  {
   "cell_type": "code",
   "execution_count": 14,
   "metadata": {},
   "outputs": [],
   "source": [
    "model = LinearRegression()\n",
    "\n",
    "# Train your model with the transformed y_train\n",
    "model.fit(X_train, y_train)\n",
    "\n",
    "# Make predictions (these predictions will be in the log scale)\n",
    "predictions = model.predict(X_test)"
   ]
  },
  {
   "cell_type": "code",
   "execution_count": 15,
   "metadata": {},
   "outputs": [
    {
     "name": "stdout",
     "output_type": "stream",
     "text": [
      "Results after dealing with missing values and outliers\n",
      "MSE: 3131825588664.328 \n",
      "RMSE: 1769696.4679470682 \n",
      "MAE: 1308853.4753398541 \n",
      "R-squared: 0.5104585245216431\n"
     ]
    },
    {
     "name": "stderr",
     "output_type": "stream",
     "text": [
      "/Users/ossianhempel/repos/apartment_price_predictor/venv/lib/python3.10/site-packages/sklearn/metrics/_regression.py:483: FutureWarning: 'squared' is deprecated in version 1.4 and will be removed in 1.6. To calculate the root mean squared error, use the function'root_mean_squared_error'.\n",
      "  warnings.warn(\n"
     ]
    }
   ],
   "source": [
    "print('Results after dealing with missing values and outliers')\n",
    "evaluate_model(y_test, predictions)"
   ]
  },
  {
   "cell_type": "markdown",
   "metadata": {},
   "source": [
    "# *4. Data Transformations*"
   ]
  },
  {
   "cell_type": "markdown",
   "metadata": {},
   "source": [
    "### Log Transformation of Dependent Variables"
   ]
  },
  {
   "cell_type": "code",
   "execution_count": 16,
   "metadata": {},
   "outputs": [],
   "source": [
    "# Perform Log transformation\n",
    "y_train_log = np.log1p(y_train)"
   ]
  },
  {
   "cell_type": "markdown",
   "metadata": {},
   "source": [
    "#### Train Model"
   ]
  },
  {
   "cell_type": "code",
   "execution_count": 17,
   "metadata": {},
   "outputs": [],
   "source": [
    "model = LinearRegression()\n",
    "\n",
    "# Train your model with the transformed y_train\n",
    "model.fit(X_train, y_train_log)\n",
    "\n",
    "# Make predictions (these predictions will be in the log scale)\n",
    "log_predictions = model.predict(X_test)\n",
    "\n",
    "# Transform predictions back to original scale\n",
    "predictions = np.expm1(log_predictions)"
   ]
  },
  {
   "cell_type": "code",
   "execution_count": 18,
   "metadata": {},
   "outputs": [
    {
     "name": "stdout",
     "output_type": "stream",
     "text": [
      "Log transformation results:\n",
      "MSE: 2835329270104.6895 \n",
      "RMSE: 1683843.6002505368 \n",
      "MAE: 1155020.7282621097 \n",
      "R-squared: 0.5568044148505771\n"
     ]
    },
    {
     "name": "stderr",
     "output_type": "stream",
     "text": [
      "/Users/ossianhempel/repos/apartment_price_predictor/venv/lib/python3.10/site-packages/sklearn/metrics/_regression.py:483: FutureWarning: 'squared' is deprecated in version 1.4 and will be removed in 1.6. To calculate the root mean squared error, use the function'root_mean_squared_error'.\n",
      "  warnings.warn(\n"
     ]
    }
   ],
   "source": [
    "print('Log transformation results:')\n",
    "evaluate_model(y_test, predictions)"
   ]
  },
  {
   "cell_type": "markdown",
   "metadata": {},
   "source": [
    "- Log transformation had a slight performance improvement in all metrics"
   ]
  },
  {
   "cell_type": "markdown",
   "metadata": {},
   "source": [
    "### Feature Scaling"
   ]
  },
  {
   "cell_type": "code",
   "execution_count": 19,
   "metadata": {},
   "outputs": [],
   "source": [
    "# Initialize the scaler\n",
    "scaler = StandardScaler()\n",
    "\n",
    "# Fit the scaler on the training data\n",
    "scaler.fit(X_train)\n",
    "\n",
    "# Transform (scale) both the training and test data\n",
    "X_train_scaled = scaler.transform(X_train)\n",
    "X_test_scaled = scaler.transform(X_test)\n",
    "\n",
    "# Now, you can use the scaled data for model training and predictions\n",
    "model.fit(X_train_scaled, y_train_log)\n",
    "\n",
    "# Make predictions (these predictions will be in the log scale)\n",
    "log_predictions = model.predict(X_test_scaled)  # Corrected to use X_test_scaled\n",
    "\n",
    "# Transform predictions back to original scale\n",
    "predictions = np.expm1(log_predictions)"
   ]
  },
  {
   "cell_type": "markdown",
   "metadata": {},
   "source": [
    "#### Train Model"
   ]
  },
  {
   "cell_type": "code",
   "execution_count": 20,
   "metadata": {},
   "outputs": [
    {
     "name": "stdout",
     "output_type": "stream",
     "text": [
      "MSE: 2835329270104.6685 \n",
      "RMSE: 1683843.6002505305 \n",
      "MAE: 1155020.7282621083 \n",
      "R-squared: 0.5568044148505804\n"
     ]
    },
    {
     "name": "stderr",
     "output_type": "stream",
     "text": [
      "/Users/ossianhempel/repos/apartment_price_predictor/venv/lib/python3.10/site-packages/sklearn/metrics/_regression.py:483: FutureWarning: 'squared' is deprecated in version 1.4 and will be removed in 1.6. To calculate the root mean squared error, use the function'root_mean_squared_error'.\n",
      "  warnings.warn(\n"
     ]
    }
   ],
   "source": [
    "evaluate_model(y_test, predictions)"
   ]
  },
  {
   "cell_type": "markdown",
   "metadata": {},
   "source": [
    "# *6. Export Loaded Data*"
   ]
  },
  {
   "cell_type": "code",
   "execution_count": 21,
   "metadata": {},
   "outputs": [],
   "source": [
    "df = df.drop(['region', 'floor_number'], axis=1)"
   ]
  },
  {
   "cell_type": "code",
   "execution_count": 22,
   "metadata": {},
   "outputs": [],
   "source": [
    "df.to_csv('./data/loaded_scraped_apartment_sales_data.csv')"
   ]
  }
 ],
 "metadata": {
  "kernelspec": {
   "display_name": "apartment_predictor",
   "language": "python",
   "name": "python3"
  },
  "language_info": {
   "codemirror_mode": {
    "name": "ipython",
    "version": 3
   },
   "file_extension": ".py",
   "mimetype": "text/x-python",
   "name": "python",
   "nbconvert_exporter": "python",
   "pygments_lexer": "ipython3",
   "version": "3.10.13"
  }
 },
 "nbformat": 4,
 "nbformat_minor": 2
}
