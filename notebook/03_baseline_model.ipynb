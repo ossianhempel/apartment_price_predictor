{
 "cells": [
  {
   "cell_type": "code",
   "execution_count": 1,
   "metadata": {},
   "outputs": [
    {
     "name": "stderr",
     "output_type": "stream",
     "text": [
      "/var/folders/t_/0sss_n354p10j1d1j41c4ml00000gn/T/ipykernel_30419/3680305265.py:1: DeprecationWarning: \n",
      "Pyarrow will become a required dependency of pandas in the next major release of pandas (pandas 3.0),\n",
      "(to allow more performant data types, such as the Arrow string type, and better interoperability with other libraries)\n",
      "but was not found to be installed on your system.\n",
      "If this would cause problems for you,\n",
      "please provide us feedback at https://github.com/pandas-dev/pandas/issues/54466\n",
      "        \n",
      "  import pandas as pd\n"
     ]
    }
   ],
   "source": [
    "import pandas as pd\n",
    "import numpy as np\n",
    "import seaborn as sns\n",
    "import matplotlib.pyplot as plt\n",
    "import plotly.express as px\n",
    "import scipy.stats as stats\n",
    "from sklearn.linear_model import LinearRegression\n",
    "from sklearn.model_selection import train_test_split\n",
    "from sklearn.metrics import mean_squared_error, r2_score, mean_absolute_error\n",
    "from statsmodels.graphics.gofplots import qqplot\n",
    "from numpy.linalg import pinv\n",
    "from joblib import dump"
   ]
  },
  {
   "cell_type": "code",
   "execution_count": 2,
   "metadata": {},
   "outputs": [
    {
     "data": {
      "text/html": [
       "<div>\n",
       "<style scoped>\n",
       "    .dataframe tbody tr th:only-of-type {\n",
       "        vertical-align: middle;\n",
       "    }\n",
       "\n",
       "    .dataframe tbody tr th {\n",
       "        vertical-align: top;\n",
       "    }\n",
       "\n",
       "    .dataframe thead th {\n",
       "        text-align: right;\n",
       "    }\n",
       "</style>\n",
       "<table border=\"1\" class=\"dataframe\">\n",
       "  <thead>\n",
       "    <tr style=\"text-align: right;\">\n",
       "      <th></th>\n",
       "      <th>Unnamed: 0</th>\n",
       "      <th>number_of_rooms</th>\n",
       "      <th>area_size</th>\n",
       "      <th>has_elevator</th>\n",
       "      <th>year_built</th>\n",
       "      <th>annual_fee_sek</th>\n",
       "      <th>annual_cost_sek</th>\n",
       "      <th>region_processed_bromma</th>\n",
       "      <th>region_processed_centrala sundbyberg</th>\n",
       "      <th>region_processed_gröndal</th>\n",
       "      <th>...</th>\n",
       "      <th>region_processed_östermalm</th>\n",
       "      <th>has_balcony_nej</th>\n",
       "      <th>has_balcony_unknown</th>\n",
       "      <th>cleaned_floor_number</th>\n",
       "      <th>brokerage_firm_processed_erik olsson fastighetsförmedling</th>\n",
       "      <th>brokerage_firm_processed_fastighetsbyrån stockholm - södermalm</th>\n",
       "      <th>brokerage_firm_processed_länsförsäkringar fastighetsförmedling solna</th>\n",
       "      <th>brokerage_firm_processed_notar</th>\n",
       "      <th>brokerage_firm_processed_tradition mäkleri</th>\n",
       "      <th>price_sold_sek</th>\n",
       "    </tr>\n",
       "  </thead>\n",
       "  <tbody>\n",
       "    <tr>\n",
       "      <th>0</th>\n",
       "      <td>0</td>\n",
       "      <td>3.0</td>\n",
       "      <td>74</td>\n",
       "      <td>False</td>\n",
       "      <td>1953.0</td>\n",
       "      <td>4899</td>\n",
       "      <td>9000</td>\n",
       "      <td>False</td>\n",
       "      <td>False</td>\n",
       "      <td>False</td>\n",
       "      <td>...</td>\n",
       "      <td>False</td>\n",
       "      <td>False</td>\n",
       "      <td>False</td>\n",
       "      <td>2.0</td>\n",
       "      <td>False</td>\n",
       "      <td>False</td>\n",
       "      <td>False</td>\n",
       "      <td>False</td>\n",
       "      <td>False</td>\n",
       "      <td>4400000</td>\n",
       "    </tr>\n",
       "    <tr>\n",
       "      <th>1</th>\n",
       "      <td>1</td>\n",
       "      <td>1.0</td>\n",
       "      <td>25</td>\n",
       "      <td>True</td>\n",
       "      <td>1961.0</td>\n",
       "      <td>2265</td>\n",
       "      <td>3120</td>\n",
       "      <td>False</td>\n",
       "      <td>False</td>\n",
       "      <td>False</td>\n",
       "      <td>...</td>\n",
       "      <td>False</td>\n",
       "      <td>False</td>\n",
       "      <td>True</td>\n",
       "      <td>4.0</td>\n",
       "      <td>False</td>\n",
       "      <td>False</td>\n",
       "      <td>False</td>\n",
       "      <td>False</td>\n",
       "      <td>False</td>\n",
       "      <td>1015000</td>\n",
       "    </tr>\n",
       "    <tr>\n",
       "      <th>2</th>\n",
       "      <td>3</td>\n",
       "      <td>1.0</td>\n",
       "      <td>40</td>\n",
       "      <td>True</td>\n",
       "      <td>1955.0</td>\n",
       "      <td>3250</td>\n",
       "      <td>4500</td>\n",
       "      <td>False</td>\n",
       "      <td>False</td>\n",
       "      <td>False</td>\n",
       "      <td>...</td>\n",
       "      <td>False</td>\n",
       "      <td>False</td>\n",
       "      <td>False</td>\n",
       "      <td>2.0</td>\n",
       "      <td>False</td>\n",
       "      <td>False</td>\n",
       "      <td>False</td>\n",
       "      <td>False</td>\n",
       "      <td>False</td>\n",
       "      <td>1395000</td>\n",
       "    </tr>\n",
       "    <tr>\n",
       "      <th>3</th>\n",
       "      <td>4</td>\n",
       "      <td>1.0</td>\n",
       "      <td>31</td>\n",
       "      <td>True</td>\n",
       "      <td>1963.0</td>\n",
       "      <td>1290</td>\n",
       "      <td>6804</td>\n",
       "      <td>False</td>\n",
       "      <td>False</td>\n",
       "      <td>False</td>\n",
       "      <td>...</td>\n",
       "      <td>False</td>\n",
       "      <td>False</td>\n",
       "      <td>False</td>\n",
       "      <td>1.0</td>\n",
       "      <td>False</td>\n",
       "      <td>False</td>\n",
       "      <td>False</td>\n",
       "      <td>True</td>\n",
       "      <td>False</td>\n",
       "      <td>3150000</td>\n",
       "    </tr>\n",
       "    <tr>\n",
       "      <th>4</th>\n",
       "      <td>5</td>\n",
       "      <td>1.0</td>\n",
       "      <td>40</td>\n",
       "      <td>True</td>\n",
       "      <td>1972.0</td>\n",
       "      <td>2947</td>\n",
       "      <td>4200</td>\n",
       "      <td>False</td>\n",
       "      <td>False</td>\n",
       "      <td>False</td>\n",
       "      <td>...</td>\n",
       "      <td>False</td>\n",
       "      <td>False</td>\n",
       "      <td>False</td>\n",
       "      <td>1.0</td>\n",
       "      <td>False</td>\n",
       "      <td>False</td>\n",
       "      <td>False</td>\n",
       "      <td>False</td>\n",
       "      <td>False</td>\n",
       "      <td>1750000</td>\n",
       "    </tr>\n",
       "  </tbody>\n",
       "</table>\n",
       "<p>5 rows × 26 columns</p>\n",
       "</div>"
      ],
      "text/plain": [
       "   Unnamed: 0  number_of_rooms  area_size  has_elevator  year_built  \\\n",
       "0           0              3.0         74         False      1953.0   \n",
       "1           1              1.0         25          True      1961.0   \n",
       "2           3              1.0         40          True      1955.0   \n",
       "3           4              1.0         31          True      1963.0   \n",
       "4           5              1.0         40          True      1972.0   \n",
       "\n",
       "   annual_fee_sek  annual_cost_sek  region_processed_bromma  \\\n",
       "0            4899             9000                    False   \n",
       "1            2265             3120                    False   \n",
       "2            3250             4500                    False   \n",
       "3            1290             6804                    False   \n",
       "4            2947             4200                    False   \n",
       "\n",
       "   region_processed_centrala sundbyberg  region_processed_gröndal  ...  \\\n",
       "0                                 False                     False  ...   \n",
       "1                                 False                     False  ...   \n",
       "2                                 False                     False  ...   \n",
       "3                                 False                     False  ...   \n",
       "4                                 False                     False  ...   \n",
       "\n",
       "   region_processed_östermalm  has_balcony_nej  has_balcony_unknown  \\\n",
       "0                       False            False                False   \n",
       "1                       False            False                 True   \n",
       "2                       False            False                False   \n",
       "3                       False            False                False   \n",
       "4                       False            False                False   \n",
       "\n",
       "   cleaned_floor_number  \\\n",
       "0                   2.0   \n",
       "1                   4.0   \n",
       "2                   2.0   \n",
       "3                   1.0   \n",
       "4                   1.0   \n",
       "\n",
       "   brokerage_firm_processed_erik olsson fastighetsförmedling  \\\n",
       "0                                              False           \n",
       "1                                              False           \n",
       "2                                              False           \n",
       "3                                              False           \n",
       "4                                              False           \n",
       "\n",
       "   brokerage_firm_processed_fastighetsbyrån stockholm - södermalm  \\\n",
       "0                                              False                \n",
       "1                                              False                \n",
       "2                                              False                \n",
       "3                                              False                \n",
       "4                                              False                \n",
       "\n",
       "   brokerage_firm_processed_länsförsäkringar fastighetsförmedling solna  \\\n",
       "0                                              False                      \n",
       "1                                              False                      \n",
       "2                                              False                      \n",
       "3                                              False                      \n",
       "4                                              False                      \n",
       "\n",
       "   brokerage_firm_processed_notar  brokerage_firm_processed_tradition mäkleri  \\\n",
       "0                           False                                       False   \n",
       "1                           False                                       False   \n",
       "2                           False                                       False   \n",
       "3                            True                                       False   \n",
       "4                           False                                       False   \n",
       "\n",
       "   price_sold_sek  \n",
       "0         4400000  \n",
       "1         1015000  \n",
       "2         1395000  \n",
       "3         3150000  \n",
       "4         1750000  \n",
       "\n",
       "[5 rows x 26 columns]"
      ]
     },
     "execution_count": 2,
     "metadata": {},
     "output_type": "execute_result"
    }
   ],
   "source": [
    "df = pd.read_csv('./data/processed_scraped_apartment_sales_baseline.csv')\n",
    "\n",
    "df.head()"
   ]
  },
  {
   "cell_type": "code",
   "execution_count": 3,
   "metadata": {},
   "outputs": [],
   "source": [
    "df = df.drop('Unnamed: 0', axis=1)"
   ]
  },
  {
   "cell_type": "markdown",
   "metadata": {},
   "source": [
    "## *1. Split Data*"
   ]
  },
  {
   "cell_type": "code",
   "execution_count": 4,
   "metadata": {},
   "outputs": [],
   "source": [
    "X = df.drop('price_sold_sek', axis=1)\n",
    "y = df['price_sold_sek']"
   ]
  },
  {
   "cell_type": "code",
   "execution_count": 5,
   "metadata": {},
   "outputs": [],
   "source": [
    "X_train, X_test, y_train, y_test = train_test_split(X, y, random_state=13)"
   ]
  },
  {
   "cell_type": "markdown",
   "metadata": {},
   "source": [
    "## *2. Build Model*"
   ]
  },
  {
   "cell_type": "code",
   "execution_count": 6,
   "metadata": {},
   "outputs": [],
   "source": [
    "baseline_model = LinearRegression()"
   ]
  },
  {
   "cell_type": "code",
   "execution_count": 7,
   "metadata": {},
   "outputs": [
    {
     "data": {
      "text/html": [
       "<style>#sk-container-id-1 {\n",
       "  /* Definition of color scheme common for light and dark mode */\n",
       "  --sklearn-color-text: black;\n",
       "  --sklearn-color-line: gray;\n",
       "  /* Definition of color scheme for unfitted estimators */\n",
       "  --sklearn-color-unfitted-level-0: #fff5e6;\n",
       "  --sklearn-color-unfitted-level-1: #f6e4d2;\n",
       "  --sklearn-color-unfitted-level-2: #ffe0b3;\n",
       "  --sklearn-color-unfitted-level-3: chocolate;\n",
       "  /* Definition of color scheme for fitted estimators */\n",
       "  --sklearn-color-fitted-level-0: #f0f8ff;\n",
       "  --sklearn-color-fitted-level-1: #d4ebff;\n",
       "  --sklearn-color-fitted-level-2: #b3dbfd;\n",
       "  --sklearn-color-fitted-level-3: cornflowerblue;\n",
       "\n",
       "  /* Specific color for light theme */\n",
       "  --sklearn-color-text-on-default-background: var(--sg-text-color, var(--theme-code-foreground, var(--jp-content-font-color1, black)));\n",
       "  --sklearn-color-background: var(--sg-background-color, var(--theme-background, var(--jp-layout-color0, white)));\n",
       "  --sklearn-color-border-box: var(--sg-text-color, var(--theme-code-foreground, var(--jp-content-font-color1, black)));\n",
       "  --sklearn-color-icon: #696969;\n",
       "\n",
       "  @media (prefers-color-scheme: dark) {\n",
       "    /* Redefinition of color scheme for dark theme */\n",
       "    --sklearn-color-text-on-default-background: var(--sg-text-color, var(--theme-code-foreground, var(--jp-content-font-color1, white)));\n",
       "    --sklearn-color-background: var(--sg-background-color, var(--theme-background, var(--jp-layout-color0, #111)));\n",
       "    --sklearn-color-border-box: var(--sg-text-color, var(--theme-code-foreground, var(--jp-content-font-color1, white)));\n",
       "    --sklearn-color-icon: #878787;\n",
       "  }\n",
       "}\n",
       "\n",
       "#sk-container-id-1 {\n",
       "  color: var(--sklearn-color-text);\n",
       "}\n",
       "\n",
       "#sk-container-id-1 pre {\n",
       "  padding: 0;\n",
       "}\n",
       "\n",
       "#sk-container-id-1 input.sk-hidden--visually {\n",
       "  border: 0;\n",
       "  clip: rect(1px 1px 1px 1px);\n",
       "  clip: rect(1px, 1px, 1px, 1px);\n",
       "  height: 1px;\n",
       "  margin: -1px;\n",
       "  overflow: hidden;\n",
       "  padding: 0;\n",
       "  position: absolute;\n",
       "  width: 1px;\n",
       "}\n",
       "\n",
       "#sk-container-id-1 div.sk-dashed-wrapped {\n",
       "  border: 1px dashed var(--sklearn-color-line);\n",
       "  margin: 0 0.4em 0.5em 0.4em;\n",
       "  box-sizing: border-box;\n",
       "  padding-bottom: 0.4em;\n",
       "  background-color: var(--sklearn-color-background);\n",
       "}\n",
       "\n",
       "#sk-container-id-1 div.sk-container {\n",
       "  /* jupyter's `normalize.less` sets `[hidden] { display: none; }`\n",
       "     but bootstrap.min.css set `[hidden] { display: none !important; }`\n",
       "     so we also need the `!important` here to be able to override the\n",
       "     default hidden behavior on the sphinx rendered scikit-learn.org.\n",
       "     See: https://github.com/scikit-learn/scikit-learn/issues/21755 */\n",
       "  display: inline-block !important;\n",
       "  position: relative;\n",
       "}\n",
       "\n",
       "#sk-container-id-1 div.sk-text-repr-fallback {\n",
       "  display: none;\n",
       "}\n",
       "\n",
       "div.sk-parallel-item,\n",
       "div.sk-serial,\n",
       "div.sk-item {\n",
       "  /* draw centered vertical line to link estimators */\n",
       "  background-image: linear-gradient(var(--sklearn-color-text-on-default-background), var(--sklearn-color-text-on-default-background));\n",
       "  background-size: 2px 100%;\n",
       "  background-repeat: no-repeat;\n",
       "  background-position: center center;\n",
       "}\n",
       "\n",
       "/* Parallel-specific style estimator block */\n",
       "\n",
       "#sk-container-id-1 div.sk-parallel-item::after {\n",
       "  content: \"\";\n",
       "  width: 100%;\n",
       "  border-bottom: 2px solid var(--sklearn-color-text-on-default-background);\n",
       "  flex-grow: 1;\n",
       "}\n",
       "\n",
       "#sk-container-id-1 div.sk-parallel {\n",
       "  display: flex;\n",
       "  align-items: stretch;\n",
       "  justify-content: center;\n",
       "  background-color: var(--sklearn-color-background);\n",
       "  position: relative;\n",
       "}\n",
       "\n",
       "#sk-container-id-1 div.sk-parallel-item {\n",
       "  display: flex;\n",
       "  flex-direction: column;\n",
       "}\n",
       "\n",
       "#sk-container-id-1 div.sk-parallel-item:first-child::after {\n",
       "  align-self: flex-end;\n",
       "  width: 50%;\n",
       "}\n",
       "\n",
       "#sk-container-id-1 div.sk-parallel-item:last-child::after {\n",
       "  align-self: flex-start;\n",
       "  width: 50%;\n",
       "}\n",
       "\n",
       "#sk-container-id-1 div.sk-parallel-item:only-child::after {\n",
       "  width: 0;\n",
       "}\n",
       "\n",
       "/* Serial-specific style estimator block */\n",
       "\n",
       "#sk-container-id-1 div.sk-serial {\n",
       "  display: flex;\n",
       "  flex-direction: column;\n",
       "  align-items: center;\n",
       "  background-color: var(--sklearn-color-background);\n",
       "  padding-right: 1em;\n",
       "  padding-left: 1em;\n",
       "}\n",
       "\n",
       "\n",
       "/* Toggleable style: style used for estimator/Pipeline/ColumnTransformer box that is\n",
       "clickable and can be expanded/collapsed.\n",
       "- Pipeline and ColumnTransformer use this feature and define the default style\n",
       "- Estimators will overwrite some part of the style using the `sk-estimator` class\n",
       "*/\n",
       "\n",
       "/* Pipeline and ColumnTransformer style (default) */\n",
       "\n",
       "#sk-container-id-1 div.sk-toggleable {\n",
       "  /* Default theme specific background. It is overwritten whether we have a\n",
       "  specific estimator or a Pipeline/ColumnTransformer */\n",
       "  background-color: var(--sklearn-color-background);\n",
       "}\n",
       "\n",
       "/* Toggleable label */\n",
       "#sk-container-id-1 label.sk-toggleable__label {\n",
       "  cursor: pointer;\n",
       "  display: block;\n",
       "  width: 100%;\n",
       "  margin-bottom: 0;\n",
       "  padding: 0.5em;\n",
       "  box-sizing: border-box;\n",
       "  text-align: center;\n",
       "}\n",
       "\n",
       "#sk-container-id-1 label.sk-toggleable__label-arrow:before {\n",
       "  /* Arrow on the left of the label */\n",
       "  content: \"▸\";\n",
       "  float: left;\n",
       "  margin-right: 0.25em;\n",
       "  color: var(--sklearn-color-icon);\n",
       "}\n",
       "\n",
       "#sk-container-id-1 label.sk-toggleable__label-arrow:hover:before {\n",
       "  color: var(--sklearn-color-text);\n",
       "}\n",
       "\n",
       "/* Toggleable content - dropdown */\n",
       "\n",
       "#sk-container-id-1 div.sk-toggleable__content {\n",
       "  max-height: 0;\n",
       "  max-width: 0;\n",
       "  overflow: hidden;\n",
       "  text-align: left;\n",
       "  /* unfitted */\n",
       "  background-color: var(--sklearn-color-unfitted-level-0);\n",
       "}\n",
       "\n",
       "#sk-container-id-1 div.sk-toggleable__content.fitted {\n",
       "  /* fitted */\n",
       "  background-color: var(--sklearn-color-fitted-level-0);\n",
       "}\n",
       "\n",
       "#sk-container-id-1 div.sk-toggleable__content pre {\n",
       "  margin: 0.2em;\n",
       "  border-radius: 0.25em;\n",
       "  color: var(--sklearn-color-text);\n",
       "  /* unfitted */\n",
       "  background-color: var(--sklearn-color-unfitted-level-0);\n",
       "}\n",
       "\n",
       "#sk-container-id-1 div.sk-toggleable__content.fitted pre {\n",
       "  /* unfitted */\n",
       "  background-color: var(--sklearn-color-fitted-level-0);\n",
       "}\n",
       "\n",
       "#sk-container-id-1 input.sk-toggleable__control:checked~div.sk-toggleable__content {\n",
       "  /* Expand drop-down */\n",
       "  max-height: 200px;\n",
       "  max-width: 100%;\n",
       "  overflow: auto;\n",
       "}\n",
       "\n",
       "#sk-container-id-1 input.sk-toggleable__control:checked~label.sk-toggleable__label-arrow:before {\n",
       "  content: \"▾\";\n",
       "}\n",
       "\n",
       "/* Pipeline/ColumnTransformer-specific style */\n",
       "\n",
       "#sk-container-id-1 div.sk-label input.sk-toggleable__control:checked~label.sk-toggleable__label {\n",
       "  color: var(--sklearn-color-text);\n",
       "  background-color: var(--sklearn-color-unfitted-level-2);\n",
       "}\n",
       "\n",
       "#sk-container-id-1 div.sk-label.fitted input.sk-toggleable__control:checked~label.sk-toggleable__label {\n",
       "  background-color: var(--sklearn-color-fitted-level-2);\n",
       "}\n",
       "\n",
       "/* Estimator-specific style */\n",
       "\n",
       "/* Colorize estimator box */\n",
       "#sk-container-id-1 div.sk-estimator input.sk-toggleable__control:checked~label.sk-toggleable__label {\n",
       "  /* unfitted */\n",
       "  background-color: var(--sklearn-color-unfitted-level-2);\n",
       "}\n",
       "\n",
       "#sk-container-id-1 div.sk-estimator.fitted input.sk-toggleable__control:checked~label.sk-toggleable__label {\n",
       "  /* fitted */\n",
       "  background-color: var(--sklearn-color-fitted-level-2);\n",
       "}\n",
       "\n",
       "#sk-container-id-1 div.sk-label label.sk-toggleable__label,\n",
       "#sk-container-id-1 div.sk-label label {\n",
       "  /* The background is the default theme color */\n",
       "  color: var(--sklearn-color-text-on-default-background);\n",
       "}\n",
       "\n",
       "/* On hover, darken the color of the background */\n",
       "#sk-container-id-1 div.sk-label:hover label.sk-toggleable__label {\n",
       "  color: var(--sklearn-color-text);\n",
       "  background-color: var(--sklearn-color-unfitted-level-2);\n",
       "}\n",
       "\n",
       "/* Label box, darken color on hover, fitted */\n",
       "#sk-container-id-1 div.sk-label.fitted:hover label.sk-toggleable__label.fitted {\n",
       "  color: var(--sklearn-color-text);\n",
       "  background-color: var(--sklearn-color-fitted-level-2);\n",
       "}\n",
       "\n",
       "/* Estimator label */\n",
       "\n",
       "#sk-container-id-1 div.sk-label label {\n",
       "  font-family: monospace;\n",
       "  font-weight: bold;\n",
       "  display: inline-block;\n",
       "  line-height: 1.2em;\n",
       "}\n",
       "\n",
       "#sk-container-id-1 div.sk-label-container {\n",
       "  text-align: center;\n",
       "}\n",
       "\n",
       "/* Estimator-specific */\n",
       "#sk-container-id-1 div.sk-estimator {\n",
       "  font-family: monospace;\n",
       "  border: 1px dotted var(--sklearn-color-border-box);\n",
       "  border-radius: 0.25em;\n",
       "  box-sizing: border-box;\n",
       "  margin-bottom: 0.5em;\n",
       "  /* unfitted */\n",
       "  background-color: var(--sklearn-color-unfitted-level-0);\n",
       "}\n",
       "\n",
       "#sk-container-id-1 div.sk-estimator.fitted {\n",
       "  /* fitted */\n",
       "  background-color: var(--sklearn-color-fitted-level-0);\n",
       "}\n",
       "\n",
       "/* on hover */\n",
       "#sk-container-id-1 div.sk-estimator:hover {\n",
       "  /* unfitted */\n",
       "  background-color: var(--sklearn-color-unfitted-level-2);\n",
       "}\n",
       "\n",
       "#sk-container-id-1 div.sk-estimator.fitted:hover {\n",
       "  /* fitted */\n",
       "  background-color: var(--sklearn-color-fitted-level-2);\n",
       "}\n",
       "\n",
       "/* Specification for estimator info (e.g. \"i\" and \"?\") */\n",
       "\n",
       "/* Common style for \"i\" and \"?\" */\n",
       "\n",
       ".sk-estimator-doc-link,\n",
       "a:link.sk-estimator-doc-link,\n",
       "a:visited.sk-estimator-doc-link {\n",
       "  float: right;\n",
       "  font-size: smaller;\n",
       "  line-height: 1em;\n",
       "  font-family: monospace;\n",
       "  background-color: var(--sklearn-color-background);\n",
       "  border-radius: 1em;\n",
       "  height: 1em;\n",
       "  width: 1em;\n",
       "  text-decoration: none !important;\n",
       "  margin-left: 1ex;\n",
       "  /* unfitted */\n",
       "  border: var(--sklearn-color-unfitted-level-1) 1pt solid;\n",
       "  color: var(--sklearn-color-unfitted-level-1);\n",
       "}\n",
       "\n",
       ".sk-estimator-doc-link.fitted,\n",
       "a:link.sk-estimator-doc-link.fitted,\n",
       "a:visited.sk-estimator-doc-link.fitted {\n",
       "  /* fitted */\n",
       "  border: var(--sklearn-color-fitted-level-1) 1pt solid;\n",
       "  color: var(--sklearn-color-fitted-level-1);\n",
       "}\n",
       "\n",
       "/* On hover */\n",
       "div.sk-estimator:hover .sk-estimator-doc-link:hover,\n",
       ".sk-estimator-doc-link:hover,\n",
       "div.sk-label-container:hover .sk-estimator-doc-link:hover,\n",
       ".sk-estimator-doc-link:hover {\n",
       "  /* unfitted */\n",
       "  background-color: var(--sklearn-color-unfitted-level-3);\n",
       "  color: var(--sklearn-color-background);\n",
       "  text-decoration: none;\n",
       "}\n",
       "\n",
       "div.sk-estimator.fitted:hover .sk-estimator-doc-link.fitted:hover,\n",
       ".sk-estimator-doc-link.fitted:hover,\n",
       "div.sk-label-container:hover .sk-estimator-doc-link.fitted:hover,\n",
       ".sk-estimator-doc-link.fitted:hover {\n",
       "  /* fitted */\n",
       "  background-color: var(--sklearn-color-fitted-level-3);\n",
       "  color: var(--sklearn-color-background);\n",
       "  text-decoration: none;\n",
       "}\n",
       "\n",
       "/* Span, style for the box shown on hovering the info icon */\n",
       ".sk-estimator-doc-link span {\n",
       "  display: none;\n",
       "  z-index: 9999;\n",
       "  position: relative;\n",
       "  font-weight: normal;\n",
       "  right: .2ex;\n",
       "  padding: .5ex;\n",
       "  margin: .5ex;\n",
       "  width: min-content;\n",
       "  min-width: 20ex;\n",
       "  max-width: 50ex;\n",
       "  color: var(--sklearn-color-text);\n",
       "  box-shadow: 2pt 2pt 4pt #999;\n",
       "  /* unfitted */\n",
       "  background: var(--sklearn-color-unfitted-level-0);\n",
       "  border: .5pt solid var(--sklearn-color-unfitted-level-3);\n",
       "}\n",
       "\n",
       ".sk-estimator-doc-link.fitted span {\n",
       "  /* fitted */\n",
       "  background: var(--sklearn-color-fitted-level-0);\n",
       "  border: var(--sklearn-color-fitted-level-3);\n",
       "}\n",
       "\n",
       ".sk-estimator-doc-link:hover span {\n",
       "  display: block;\n",
       "}\n",
       "\n",
       "/* \"?\"-specific style due to the `<a>` HTML tag */\n",
       "\n",
       "#sk-container-id-1 a.estimator_doc_link {\n",
       "  float: right;\n",
       "  font-size: 1rem;\n",
       "  line-height: 1em;\n",
       "  font-family: monospace;\n",
       "  background-color: var(--sklearn-color-background);\n",
       "  border-radius: 1rem;\n",
       "  height: 1rem;\n",
       "  width: 1rem;\n",
       "  text-decoration: none;\n",
       "  /* unfitted */\n",
       "  color: var(--sklearn-color-unfitted-level-1);\n",
       "  border: var(--sklearn-color-unfitted-level-1) 1pt solid;\n",
       "}\n",
       "\n",
       "#sk-container-id-1 a.estimator_doc_link.fitted {\n",
       "  /* fitted */\n",
       "  border: var(--sklearn-color-fitted-level-1) 1pt solid;\n",
       "  color: var(--sklearn-color-fitted-level-1);\n",
       "}\n",
       "\n",
       "/* On hover */\n",
       "#sk-container-id-1 a.estimator_doc_link:hover {\n",
       "  /* unfitted */\n",
       "  background-color: var(--sklearn-color-unfitted-level-3);\n",
       "  color: var(--sklearn-color-background);\n",
       "  text-decoration: none;\n",
       "}\n",
       "\n",
       "#sk-container-id-1 a.estimator_doc_link.fitted:hover {\n",
       "  /* fitted */\n",
       "  background-color: var(--sklearn-color-fitted-level-3);\n",
       "}\n",
       "</style><div id=\"sk-container-id-1\" class=\"sk-top-container\"><div class=\"sk-text-repr-fallback\"><pre>LinearRegression()</pre><b>In a Jupyter environment, please rerun this cell to show the HTML representation or trust the notebook. <br />On GitHub, the HTML representation is unable to render, please try loading this page with nbviewer.org.</b></div><div class=\"sk-container\" hidden><div class=\"sk-item\"><div class=\"sk-estimator fitted sk-toggleable\"><input class=\"sk-toggleable__control sk-hidden--visually\" id=\"sk-estimator-id-1\" type=\"checkbox\" checked><label for=\"sk-estimator-id-1\" class=\"sk-toggleable__label fitted sk-toggleable__label-arrow fitted\">&nbsp;&nbsp;LinearRegression<a class=\"sk-estimator-doc-link fitted\" rel=\"noreferrer\" target=\"_blank\" href=\"https://scikit-learn.org/1.4/modules/generated/sklearn.linear_model.LinearRegression.html\">?<span>Documentation for LinearRegression</span></a><span class=\"sk-estimator-doc-link fitted\">i<span>Fitted</span></span></label><div class=\"sk-toggleable__content fitted\"><pre>LinearRegression()</pre></div> </div></div></div></div>"
      ],
      "text/plain": [
       "LinearRegression()"
      ]
     },
     "execution_count": 7,
     "metadata": {},
     "output_type": "execute_result"
    }
   ],
   "source": [
    "baseline_model.fit(X_train, y_train)"
   ]
  },
  {
   "cell_type": "markdown",
   "metadata": {},
   "source": [
    "## *3. Make Predictions*"
   ]
  },
  {
   "cell_type": "code",
   "execution_count": 8,
   "metadata": {},
   "outputs": [],
   "source": [
    "predictions = baseline_model.predict(X_test)"
   ]
  },
  {
   "cell_type": "markdown",
   "metadata": {},
   "source": [
    "## *4. Evaluate Model*"
   ]
  },
  {
   "cell_type": "code",
   "execution_count": 9,
   "metadata": {},
   "outputs": [
    {
     "name": "stdout",
     "output_type": "stream",
     "text": [
      "MSE: 3404845047266.328 \n",
      "RMSE: 1845222.2216487445 \n",
      "MAE: 1363035.2040760939 \n",
      "R-squared: 0.5441301212408783\n"
     ]
    },
    {
     "name": "stderr",
     "output_type": "stream",
     "text": [
      "/Users/ossianhempel/repos/apartment_price_predictor/venv/lib/python3.10/site-packages/sklearn/metrics/_regression.py:483: FutureWarning: 'squared' is deprecated in version 1.4 and will be removed in 1.6. To calculate the root mean squared error, use the function'root_mean_squared_error'.\n",
      "  warnings.warn(\n"
     ]
    }
   ],
   "source": [
    "# Various performance metrics\n",
    "mse = mean_squared_error(y_test, predictions)\n",
    "rmse = mean_squared_error(y_test, predictions, squared=False)\n",
    "mae = mean_absolute_error(y_test, predictions)\n",
    "r2 = r2_score(y_test, predictions)\n",
    "\n",
    "print(f\"MSE: {mse} \\nRMSE: {rmse} \\nMAE: {mae} \\nR-squared: {r2}\")"
   ]
  },
  {
   "cell_type": "code",
   "execution_count": 10,
   "metadata": {},
   "outputs": [
    {
     "name": "stdout",
     "output_type": "stream",
     "text": [
      "number_of_rooms: 1482091.2121018292\n",
      "area_size: -118.20036852638297\n",
      "has_elevator: 43091.755537457044\n",
      "year_built: -10634.519074534544\n",
      "annual_fee_sek: -98.23984086070736\n",
      "annual_cost_sek: 65.60234004550556\n",
      "region_processed_bromma: 171022.8912187812\n",
      "region_processed_centrala sundbyberg: 734191.8011815711\n",
      "region_processed_gröndal: 1567778.0390767055\n",
      "region_processed_hammarby sjöstad: 2103233.9287252463\n",
      "region_processed_kungsholmen: 2301057.811705629\n",
      "region_processed_råsunda: 343375.1439734252\n",
      "region_processed_södermalm: 2086233.2258192992\n",
      "region_processed_vasastan: 2972906.6935907165\n",
      "region_processed_årsta: -1758.1878116072442\n",
      "region_processed_östermalm: 5866960.02136185\n",
      "has_balcony_nej: 50467.28567449463\n",
      "has_balcony_unknown: -293019.10252813005\n",
      "cleaned_floor_number: 91648.75587525952\n",
      "brokerage_firm_processed_erik olsson fastighetsförmedling: 460781.5962591038\n",
      "brokerage_firm_processed_fastighetsbyrån stockholm - södermalm: 1988702.8638562213\n",
      "brokerage_firm_processed_länsförsäkringar fastighetsförmedling solna: 552167.6599449859\n",
      "brokerage_firm_processed_notar: 159177.56781293484\n",
      "brokerage_firm_processed_tradition mäkleri: 912314.8503712467\n"
     ]
    }
   ],
   "source": [
    "# Calculating the variables coefficients\n",
    "coefficients = baseline_model.coef_\n",
    "\n",
    "feature_names = X.columns \n",
    "for feature, coef in zip(feature_names, coefficients):\n",
    "    print(f\"{feature}: {coef}\")"
   ]
  },
  {
   "cell_type": "markdown",
   "metadata": {},
   "source": [
    "## *5. Evaluate Assumptions*"
   ]
  },
  {
   "cell_type": "code",
   "execution_count": 11,
   "metadata": {},
   "outputs": [],
   "source": [
    "residuals = y_test - predictions"
   ]
  },
  {
   "cell_type": "markdown",
   "metadata": {},
   "source": [
    "#### Normality"
   ]
  },
  {
   "cell_type": "code",
   "execution_count": 12,
   "metadata": {},
   "outputs": [
    {
     "data": {
      "image/png": "[encoded data removed]",
      "text/plain": [
       "<Figure size 640x480 with 1 Axes>"
      ]
     },
     "metadata": {},
     "output_type": "display_data"
    }
   ],
   "source": [
    "qqplot(residuals, line='s')\n",
    "plt.title('Q-Q Plot of Residuals')\n",
    "plt.show()"
   ]
  },
  {
   "cell_type": "markdown",
   "metadata": {},
   "source": [
    "#### Homoscedasticity & Linearity & Independence"
   ]
  },
  {
   "cell_type": "code",
   "execution_count": 13,
   "metadata": {},
   "outputs": [
    {
     "data": {
      "application/vnd.plotly.v1+json": {
       "config": {
        "plotlyServerURL": "https://plot.ly"
       },
       "data": [
        {
         "hovertemplate": "Predicted Values=%{x}<br>Residuals=%{y}<extra></extra>",
         "legendgroup": "",
         "marker": {
          "color": "#636efa",
          "symbol": "circle"
         },
         "mode": "markers",
         "name": "",
         "orientation": "v",
         "showlegend": false,
         "type": "scatter",
         "x": [
          1328800.103561096,
          2755114.100015398,
          4130220.0937586725,
          6507521.2181063425,
          3304020.8960626535,
          1389874.8595883958,
          7089112.162060579,
          2055295.38553698,
          2476852.220073886,
          4526013.126562208,
          5981963.161723148,
          2396496.435470056,
          4942116.797251433,
          1219430.4028636403,
          6303467.390924908,
          1039663.5621442683,
          2834022.1090107895,
          2709223.037941739,
          4976626.619612714,
          5769313.069675768,
          5426149.2943833135,
          4007960.753900921,
          4657625.577085627,
          1244968.8746464588,
          4381809.040790621,
          9811764.853970453,
          3926326.978449991,
          6918217.919357901,
          2401443.358314257,
          6351512.907710118,
          3778645.297730837,
          2202390.3344346955,
          5375516.8080795035,
          2308098.1312096044,
          2753390.3085024357,
          4949707.115009736,
          5185288.23362284,
          3498491.3328708,
          2424775.939132005,
          3057803.8659142554,
          7292954.90225151,
          4026308.56257575,
          3911578.243629083,
          2751844.9365723208,
          2528931.263239898,
          5351231.062202271,
          10791377.196285987,
          4483730.260872353,
          2378145.104642581,
          6452965.197593391,
          3915813.0266194567,
          6449841.4317625705,
          3974690.203276137,
          3702165.503830198,
          5396029.732504742,
          5897025.730144005,
          9910367.216859108,
          6513327.7062036395,
          3205950.0737804696,
          3502029.4156968445,
          5122968.591380287,
          6343763.523789259,
          5540608.099860277,
          7322905.040180299,
          3993172.9961419646,
          3337150.680950351,
          3115968.4371873513,
          1707644.074854657,
          6236490.450217867,
          5016500.325052107,
          1040970.6203184277,
          4427050.931836318,
          2717605.8866861127,
          1440760.8456181698,
          4182065.127099609,
          1454851.1555531956,
          5142143.4674982,
          3576856.0188294053,
          2891042.838330161,
          2505376.1258740462,
          2881699.1794110537,
          4467158.522917984,
          3166431.8681104705,
          5459230.77149789,
          4984157.5489683915,
          2472023.892488368,
          5222396.76799605,
          3835655.443510793,
          8714864.732553404,
          4578950.763569733,
          4267876.647371884,
          5275331.306635076,
          4378487.862483084,
          3803397.0784925222,
          5729348.973315228,
          2317894.0362920538,
          8542589.722005716,
          2433709.9571634233,
          3151094.6550907083,
          5268718.676097477,
          3563842.9589283764,
          5112718.877968831,
          5980174.200721322,
          3988041.9417760465,
          1246597.7260074504,
          3725370.6797978505,
          2424084.6290548965,
          7072929.082310444,
          2071549.3423333503,
          2567572.478836283,
          3689820.669456795,
          5196665.530403754,
          3094496.1808788143,
          2881336.798879903,
          2867211.925722953,
          4522991.154225908,
          5746177.7063488085,
          2658422.337479472,
          4086241.5438654963,
          3015770.161815867,
          3109208.550894823,
          3516898.9169138633,
          3215136.4043888524,
          2746417.0846578777,
          2034044.219299268,
          3852506.0226090867,
          4410560.433331234,
          4140964.749400858,
          1082558.622976128,
          5044689.095390199,
          2363053.8680378236,
          4066655.192698203,
          6492636.737275861,
          6963562.101680189,
          3999716.8374099117,
          1580407.1756598167,
          1712677.4925496131,
          2301653.5572195947,
          2998888.8907403275,
          4127276.1389401425,
          4929169.590216149,
          2300280.711631749,
          3023381.801606562,
          1732571.5631710775,
          3379735.0857650638,
          5040159.4480231255,
          2173127.1387381963,
          3477214.0291928127,
          3358431.1942699514,
          6244706.031189628,
          3512688.5583989546,
          4721697.179831287,
          1862415.6090422347,
          4499602.420549177,
          8026539.349448599,
          1922611.6578394957,
          6690793.266754512,
          6808512.535659257,
          1625263.7019996196,
          3631011.7143020295,
          5366369.741461374,
          9282224.071453713,
          4217197.306541158,
          3518810.7521437593,
          4510651.766495155,
          5228617.479531409,
          5930383.047899919,
          5046988.747177474,
          3570468.390288256,
          1384171.2549558543,
          657725.3935372457,
          677928.1588551737,
          8448057.644660177,
          4310325.622023379,
          5407937.202181874,
          4423383.4963436965,
          2741702.3895346224,
          5090387.088021826,
          3841653.0779909454,
          11288812.479219353,
          6602461.047315069,
          2329348.2150108665,
          4218042.395974077,
          6503214.077874564,
          4856240.998552309,
          3483881.9981630184,
          1177036.956839472,
          1414996.0860158764,
          1052364.4244204834,
          2454669.7482176274,
          6478259.567460168,
          6217058.789163988,
          3248909.2357694507,
          3348447.3391175233,
          2426052.269030582,
          2297407.3727228865,
          5594237.175438343,
          1492648.724583976,
          3668913.513116192,
          2031515.68840418,
          3961656.6267417744,
          3066624.6416298077,
          13908141.424781602,
          4234425.586729651,
          10919397.972652907,
          2985274.029102452,
          3919889.7823827676,
          2216491.5101620555,
          5349113.636292318,
          6286623.947264679,
          2994212.9463849925,
          3157997.955943007,
          2887735.701294124,
          3683395.33255573,
          5623898.169932891,
          1758833.126908552,
          5319170.605869979,
          3737463.403913744,
          6746500.207439719,
          6809380.094917636,
          2399813.7635994665,
          416340.93521595374,
          3213912.708818674,
          5124349.203637833,
          3351998.029193271,
          2655553.6836650856,
          1446405.4321730323,
          3276922.4483592063,
          3799984.4031994343,
          3586672.1002540253,
          5313411.665735129,
          2050066.594314333,
          408983.4929381572,
          4211061.778058285,
          1945377.4016883448,
          3398404.25840557,
          5188055.066876059,
          2819785.9681281,
          3250104.892341733,
          5169426.907009069,
          2827291.2398291603,
          3064698.507631954,
          10868979.930370195,
          5293458.919467008,
          2474981.217178218,
          3928047.25871202,
          4837610.304974839,
          6094097.198366076,
          3832821.6384285986,
          7374203.400520854,
          4075884.517789969,
          2545411.909836173,
          5510811.45588731,
          2209685.788485471,
          2940724.9461974464,
          4751942.510282572,
          333784.12399274856,
          7319909.023024719,
          4703983.914476998,
          4537208.153055379,
          2878063.500029199,
          2956728.085788954,
          4793804.3949179705,
          2412586.930150129,
          3891637.3169349097,
          4130466.1858605333,
          4669581.5374973565,
          2582832.7388604693,
          5146632.2050009,
          1570300.2427805327,
          5864855.61697346,
          1884859.4071493559,
          1843081.3593904302,
          2996662.413882047,
          6370571.887821946,
          2828375.64078347,
          3966725.5322372746,
          3786848.2147492804,
          3715078.120369371,
          3493762.846321229,
          3132893.3058087155,
          3177076.491830077,
          4164964.123632051,
          1233244.4238158464,
          4878706.346932314,
          1699239.6765585132,
          4975728.97801243,
          1409869.1208025552,
          340933.1980166882,
          2738197.449468557,
          5173625.215745397,
          6144326.79262498,
          3638718.468946513,
          6569801.735377405,
          657700.6978760175,
          3447641.2540335543,
          2719488.1553577855,
          2331956.5081510358,
          4956000.533316974,
          2838145.498595692,
          4507962.120640757,
          3895426.2356195413,
          2703057.8686127365,
          4708221.354674751,
          3683223.7124331743,
          5286795.709052712,
          3330212.316591643,
          8222429.662007719,
          3670704.831302695,
          3716947.251330208,
          6340184.410493799,
          4953456.006918542,
          4620674.380426912,
          5723648.367718684,
          1923350.3349145688,
          11837739.520243157,
          3302424.0036740676,
          4777240.711533412,
          2323579.6172544844,
          5436979.946331389,
          5053179.221900389,
          6959761.045994215,
          10447555.41120863,
          2547306.478179261,
          3165219.6633298807,
          8323871.701830892,
          5961248.3093615435,
          6121168.743053181,
          6019554.228345631,
          5715718.912459396,
          5069201.762448061,
          9861779.52176452,
          2183263.493056923,
          2797108.3009314537,
          2165309.101873383,
          1158759.9519702755,
          4025075.722127568,
          4854023.859690968,
          2511954.4770984165,
          1677043.117357444,
          6377934.626612969,
          4409646.029889688,
          4534370.776809696,
          2095995.436608348,
          4458407.3484235965,
          5721985.143184593,
          3276444.0304373465,
          5730027.995497359,
          4399515.8152000625,
          4258703.67694352,
          3210830.9091606997,
          6910812.536043378,
          12629514.613412771,
          3174898.5412627608,
          3733335.6517331004,
          2264790.986947231,
          4057604.966104828,
          10793846.250298033,
          7582444.471489368,
          2849156.5463585258,
          5320462.068905177,
          4204027.265633611,
          4742751.718173115,
          2938214.157570634,
          4713599.352402225,
          5103469.590040404,
          3950972.419946393,
          3610458.6867760047,
          12761609.807266884,
          2844551.5045221,
          711673.4315880984,
          4535502.779431311,
          6801685.424980389,
          2562882.8335313387,
          4431873.961743988,
          4561239.5407318175,
          3711994.7262048684,
          9228315.050129157,
          2443784.756697979,
          3723468.54634133,
          3782385.1788124926,
          5079762.94274774,
          3110040.8514854833,
          1308248.4211470447,
          7070666.509152379,
          4724054.349233402,
          1723908.7508798428,
          2196936.1474767886,
          2534383.9467664957,
          858083.7858157754,
          2497559.9519393593,
          5390849.547135992,
          6308395.491729548,
          5101510.264910938,
          2630886.7528382875,
          1844940.530640278,
          3036920.483003821,
          3682682.4401934985,
          3201782.5231309496,
          2993126.149171397,
          7794407.403799867,
          3175984.8373295143,
          1813033.2121606804,
          2093285.5716710389,
          2790957.4341813102,
          3754766.977214746,
          5656683.297028638,
          3856788.101846123,
          6747448.975194076,
          2643176.3886980787,
          2718454.6461016387,
          1078301.1252994314,
          2920273.168258179,
          3586622.588482987,
          1258283.3500385918,
          2685879.4563055746,
          4584625.018466003,
          5487090.986682901,
          5523694.986821899,
          4451237.129376428,
          4960743.723976966,
          1870862.5453993157,
          3307475.101245299,
          1735446.1653465107,
          5886159.984013524,
          2163819.3140248135,
          3179530.8093783185,
          6136907.5469703525,
          5497627.821988326,
          5509813.1894819755,
          5589705.996892326,
          3653424.1794701144,
          2236663.1975616217,
          1530542.9482637309,
          6549709.826772939,
          2068554.5956618823,
          2967300.468482971,
          5137716.560804324,
          3833593.766149327,
          3609704.5929664634,
          4911115.096059412,
          6651689.989729067,
          2470042.964580361,
          6713048.156235121,
          3507663.177302718,
          3820856.211106997,
          2686850.3865034617,
          2397545.0334709547,
          2183285.2746749446,
          4292707.356522482,
          4863812.039530421,
          6604568.2350986935,
          3774896.859364558,
          2342373.0692266487,
          1861961.566180762,
          6110527.878783355,
          3405643.202785179,
          4521964.144043533,
          5879908.942717543,
          2359724.596065704,
          2658354.6274841465,
          2600009.1191301905,
          2663787.635608364,
          6391890.456622947,
          4517542.15917681,
          599741.4064529166,
          2854301.5519131273,
          6376706.113150286,
          1300482.5757639706,
          4261990.024714047,
          4736386.368712263,
          6891603.641888799,
          1626948.0630853511
         ],
         "xaxis": "x",
         "y": [
          1236199.896438904,
          -930114.1000153981,
          -2605220.0937586725,
          1792478.7818936575,
          -469020.8960626535,
          2110125.140411604,
          -589112.1620605793,
          544704.6144630201,
          178147.77992611378,
          5698986.873437792,
          -2006963.161723148,
          -846496.4354700558,
          1357883.2027485669,
          1805569.5971363597,
          -2603467.390924908,
          855336.4378557317,
          -1374022.1090107895,
          -59223.03794173896,
          -1336626.6196127143,
          -1984313.0696757678,
          -126149.2943833135,
          -1807960.753900921,
          -507625.57708562724,
          1275031.1253535412,
          -1381809.0407906212,
          -3136764.853970453,
          1933673.021550009,
          -1668217.9193579014,
          498556.6416857429,
          2948487.092289882,
          -28645.297730837017,
          57609.66556530446,
          -3025516.8080795035,
          416901.86879039556,
          1446609.6914975643,
          -579707.1150097363,
          -1835288.2336228397,
          916508.6671292,
          2635224.060867995,
          -782803.8659142554,
          3307045.09774849,
          1393691.43742425,
          4888421.756370917,
          1048155.0634276792,
          1121068.7367601022,
          -2526231.062202271,
          -591377.1962859873,
          -688730.2608723529,
          -653145.1046425812,
          -4077965.197593391,
          -340813.0266194567,
          -1499841.4317625705,
          -1724690.203276137,
          -1102165.5038301982,
          -1596029.7325047422,
          -572025.7301440053,
          -1960367.2168591078,
          -1953327.7062036395,
          4094049.9262195304,
          -352029.41569684446,
          5127031.408619713,
          -1093763.5237892587,
          -490608.099860277,
          3827094.9598197006,
          -1093172.9961419646,
          2912849.319049649,
          124031.56281264871,
          -482644.07485465705,
          -961490.4502178673,
          -116500.32505210675,
          909029.3796815723,
          -1827050.9318363182,
          82394.11331388727,
          759239.1543818302,
          1342934.872900391,
          795148.8444468044,
          -542143.4674982,
          -1616856.0188294053,
          -1076042.8383301608,
          -1010376.1258740462,
          -1281699.1794110537,
          -472158.52291798405,
          -116431.86811047047,
          1490769.2285021096,
          -984157.5489683915,
          -72023.89248836786,
          -427396.7679960504,
          -475655.44351079315,
          4635135.267446596,
          -853950.7635697331,
          -2107876.6473718844,
          374668.6933649238,
          3786512.137516916,
          -703397.0784925222,
          1070651.0266847722,
          -1122894.0362920538,
          -2342589.7220057156,
          -483709.9571634233,
          -351094.6550907083,
          -1983718.6760974769,
          -313842.95892837644,
          262281.122031169,
          444825.7992786784,
          3661958.0582239535,
          753402.2739925496,
          -1275370.6797978505,
          -824084.6290548965,
          -772929.0823104437,
          1923450.6576666497,
          -1067572.478836283,
          -794820.6694567949,
          -1096665.5304037537,
          205503.8191211857,
          668663.2011200972,
          -217211.92572295293,
          -622991.1542259082,
          1753822.2936511915,
          -763422.3374794722,
          -1056241.5438654963,
          734229.8381841332,
          -109208.55089482293,
          2283101.0830861367,
          1284863.5956111476,
          653582.9153421223,
          -529044.219299268,
          -1357506.0226090867,
          -1810560.4333312344,
          -640964.7494008578,
          312441.377023872,
          455310.90460980125,
          1986946.1319621764,
          1233344.807301797,
          107363.2627241388,
          -2903562.1016801894,
          -2309716.8374099117,
          -180407.1756598167,
          -477677.4925496131,
          -306653.5572195947,
          -598888.8907403275,
          1402723.8610598575,
          720830.4097838514,
          474719.2883682512,
          -423381.801606562,
          1267428.4368289225,
          -79735.08576506376,
          -2955159.4480231255,
          46872.86126180366,
          -657214.0291928127,
          -358431.19426995143,
          -3444706.031189628,
          -342688.55839895457,
          -1296697.179831287,
          2337584.3909577653,
          -2424602.4205491766,
          -1226539.349448599,
          -372611.6578394957,
          -220793.26675451174,
          -2508512.5356592573,
          574736.2980003804,
          718988.2856979705,
          1833630.2585386261,
          -2382224.071453713,
          -1917197.306541158,
          -1868810.7521437593,
          -1435651.7664951552,
          -1528617.4795314092,
          319616.95210008137,
          -1246988.7471774742,
          -990468.3902882561,
          1140828.7450441457,
          437274.6064627543,
          872071.8411448263,
          -2598057.6446601767,
          1009674.3779766206,
          -1147937.2021818738,
          -3138383.4963436965,
          -1146702.3895346224,
          -490387.088021826,
          -841653.0779909454,
          3961187.520780647,
          197538.95268493146,
          -479348.2150108665,
          -2318042.3959740773,
          -653214.0778745636,
          343759.00144769065,
          -208881.99816301838,
          222963.04316052794,
          1435003.9139841236,
          842635.5755795166,
          545330.2517823726,
          -2828259.567460168,
          -2617058.789163988,
          401090.76423054934,
          -448447.3391175233,
          -326052.26903058216,
          -247407.3727228865,
          -2169237.1754383426,
          1927351.275416024,
          1881086.486883808,
          -56515.68840418011,
          -1861656.6267417744,
          4183375.3583701923,
          7991858.575218398,
          -1134425.5867296513,
          -1919397.9726529066,
          2714725.970897548,
          1880110.2176172324,
          43508.48983794451,
          -3199113.636292318,
          -2336623.947264679,
          -144212.94638499245,
          2742002.044056993,
          4512264.298705876,
          -633395.3325557299,
          -473898.1699328907,
          941166.8730914481,
          5930829.394130021,
          -587463.4039137438,
          553499.7925602812,
          -1209380.0949176364,
          2275186.2364005335,
          1633659.0647840463,
          -338912.7088186741,
          -2324349.203637833,
          -1151998.029193271,
          339446.3163349144,
          703594.5678269677,
          3973077.5516407937,
          -899984.4031994343,
          -2186672.1002540253,
          -913411.6657351293,
          749933.405685667,
          1386016.5070618428,
          -2201061.778058285,
          2554622.598311655,
          -753404.2584055699,
          2361944.9331239406,
          40214.03187189996,
          -555104.892341733,
          -1649426.9070090689,
          3822708.7601708397,
          -1064698.5076319538,
          5931020.069629805,
          -268458.91946700774,
          325018.78282178193,
          -878047.2587120198,
          -842610.3049748391,
          -1094097.1983660758,
          1067178.3615714014,
          2725796.5994791463,
          624115.4822100308,
          -645411.909836173,
          -660811.4558873102,
          -509685.78848547116,
          -290724.94619744644,
          2798057.4897174276,
          266215.87600725144,
          -269909.0230247192,
          -1763983.9144769982,
          -1787208.1530553792,
          -1338063.5000291988,
          -556728.085788954,
          -73804.39491797052,
          3787413.069849871,
          -691637.3169349097,
          -1135466.1858605333,
          -454581.53749735653,
          1412167.2611395307,
          -2896632.2050008997,
          -320300.2427805327,
          -2439855.6169734597,
          2415140.592850644,
          1576918.6406095698,
          -26662.413882046938,
          -1120571.8878219463,
          -978375.6407834701,
          1533274.4677627254,
          -936848.2147492804,
          -2215078.120369371,
          -168762.8463212289,
          -1907893.3058087155,
          -477076.491830077,
          -1044964.123632051,
          341755.57618415356,
          -928706.3469323143,
          2040760.3234414868,
          424271.02198757045,
          1585130.8791974448,
          1194066.8019833118,
          -1543197.4494685568,
          -1823625.215745397,
          1055673.2073750198,
          -343718.4689465128,
          -2019801.7353774048,
          1137299.3021239825,
          552358.7459664457,
          1230511.8446422145,
          -671956.5081510358,
          708999.4666830264,
          136854.50140430778,
          4342037.879359243,
          -545426.2356195413,
          96942.13138726354,
          -2013221.354674751,
          1916776.2875668257,
          -2336795.7090527117,
          -480212.3165916428,
          327570.3379922807,
          1929295.168697305,
          -216947.25133020803,
          -190184.41049379855,
          -2603456.006918542,
          -420674.38042691164,
          -1928648.3677186836,
          2716649.665085431,
          3562260.4797568433,
          1347575.9963259324,
          -2282240.7115334123,
          91420.38274551556,
          -236979.94633138925,
          -2053179.2219003886,
          -559761.0459942147,
          3152444.5887913704,
          152693.5218207389,
          -185219.66332988068,
          -1373871.701830892,
          738751.6906384565,
          -2471168.743053181,
          830445.7716543693,
          -1315718.9124593958,
          30798.237551938742,
          -4511779.521764521,
          316736.50694307685,
          -697108.3009314537,
          34690.898126617074,
          216240.0480297245,
          1274924.277872432,
          -1354023.859690968,
          1988045.5229015835,
          1857956.882642556,
          -1377934.6266129687,
          -2199646.029889688,
          -1084370.776809696,
          104004.56339165196,
          -658407.3484235965,
          278014.85681540705,
          -376444.03043734655,
          -2080027.995497359,
          -1899515.8152000625,
          1566296.32305648,
          2319169.0908393003,
          -210812.5360433776,
          10670485.386587229,
          4125101.4587372392,
          -633335.6517331004,
          -719790.986947231,
          -1807604.9661048278,
          5456153.749701967,
          -2592444.471489368,
          1250843.4536414742,
          -2195462.0689051766,
          1145972.734366389,
          -1532751.7181731146,
          -688214.157570634,
          -1738599.3524022251,
          -578469.5900404043,
          1999027.580053607,
          -1115458.6867760047,
          3238390.1927331164,
          455448.4954778999,
          1138326.5684119016,
          -2335502.7794313114,
          4098314.575019611,
          -37882.83353133872,
          2068126.038256012,
          -2761239.5407318175,
          -861994.7262048684,
          1771684.9498708434,
          56215.243302021176,
          -1273468.5463413298,
          -682385.1788124926,
          -1229762.94274774,
          1389959.1485145167,
          301751.57885295525,
          529333.4908476211,
          -1049054.349233402,
          1176091.2491201572,
          103063.85252321139,
          -834383.9467664957,
          1091916.2141842246,
          -497559.9519393593,
          2734150.452864008,
          2041604.5082704518,
          1398489.7350890618,
          364113.2471617125,
          215059.469359722,
          1533079.5169961788,
          -62682.44019349851,
          -151782.5231309496,
          56873.85082860291,
          155592.59620013274,
          -615984.8373295143,
          981966.7878393196,
          301714.42832896113,
          4409042.56581869,
          -904766.9772147462,
          -131683.29702863842,
          -356788.1018461231,
          252551.02480592392,
          -848176.3886980787,
          931545.3538983613,
          871698.8747005686,
          839726.831741821,
          -436622.58848298714,
          1241716.6499614082,
          -1190879.4563055746,
          -334625.01846600324,
          -3992090.986682901,
          476305.0131781008,
          -726237.1293764282,
          -610743.723976966,
          1629137.4546006843,
          -932475.101245299,
          -495446.1653465107,
          4038840.015986476,
          -663819.3140248135,
          345469.1906216815,
          -36907.54697035253,
          -2697627.8219883256,
          -534813.1894819755,
          -889705.9968923256,
          246575.8205298856,
          1463336.8024383783,
          119457.05173626915,
          -3354709.8267729394,
          1111445.4043381177,
          932699.5315170288,
          -487716.5608043242,
          1591406.2338506728,
          -1414704.5929664634,
          -161115.09605941176,
          -4666689.989729067,
          524957.0354196392,
          -2713048.156235121,
          -782663.1773027182,
          -1720856.211106997,
          -1086850.3865034617,
          -102545.03347095475,
          926714.7253250554,
          -2792707.356522482,
          -2963812.0395304207,
          -604568.2350986935,
          -1274896.859364558,
          237626.93077335134,
          3933038.433819238,
          -1260527.8787833545,
          -955643.202785179,
          -2221964.144043533,
          120091.05728245713,
          -994724.5960657038,
          991645.3725158535,
          449990.88086980954,
          -1103787.635608364,
          -1691890.456622947,
          582457.8408231903,
          2125258.5935470834,
          -754301.5519131273,
          3223293.8868497144,
          904517.4242360294,
          -2261990.024714047,
          1513613.6312877368,
          4108396.358111201,
          573051.9369146489
         ],
         "yaxis": "y"
        }
       ],
       "layout": {
        "legend": {
         "tracegroupgap": 0
        },
        "margin": {
         "t": 60
        },
        "shapes": [
         {
          "line": {
           "color": "red",
           "dash": "dash"
          },
          "type": "line",
          "x0": 0,
          "x1": 1,
          "xref": "x domain",
          "y0": 0,
          "y1": 0,
          "yref": "y"
         }
        ],
        "template": {
         "data": {
          "bar": [
           {
            "error_x": {
             "color": "#2a3f5f"
            },
            "error_y": {
             "color": "#2a3f5f"
            },
            "marker": {
             "line": {
              "color": "#E5ECF6",
              "width": 0.5
             },
             "pattern": {
              "fillmode": "overlay",
              "size": 10,
              "solidity": 0.2
             }
            },
            "type": "bar"
           }
          ],
          "barpolar": [
           {
            "marker": {
             "line": {
              "color": "#E5ECF6",
              "width": 0.5
             },
             "pattern": {
              "fillmode": "overlay",
              "size": 10,
              "solidity": 0.2
             }
            },
            "type": "barpolar"
           }
          ],
          "carpet": [
           {
            "aaxis": {
             "endlinecolor": "#2a3f5f",
             "gridcolor": "white",
             "linecolor": "white",
             "minorgridcolor": "white",
             "startlinecolor": "#2a3f5f"
            },
            "baxis": {
             "endlinecolor": "#2a3f5f",
             "gridcolor": "white",
             "linecolor": "white",
             "minorgridcolor": "white",
             "startlinecolor": "#2a3f5f"
            },
            "type": "carpet"
           }
          ],
          "choropleth": [
           {
            "colorbar": {
             "outlinewidth": 0,
             "ticks": ""
            },
            "type": "choropleth"
           }
          ],
          "contour": [
           {
            "colorbar": {
             "outlinewidth": 0,
             "ticks": ""
            },
            "colorscale": [
             [
              0,
              "#0d0887"
             ],
             [
              0.1111111111111111,
              "#46039f"
             ],
             [
              0.2222222222222222,
              "#7201a8"
             ],
             [
              0.3333333333333333,
              "#9c179e"
             ],
             [
              0.4444444444444444,
              "#bd3786"
             ],
             [
              0.5555555555555556,
              "#d8576b"
             ],
             [
              0.6666666666666666,
              "#ed7953"
             ],
             [
              0.7777777777777778,
              "#fb9f3a"
             ],
             [
              0.8888888888888888,
              "#fdca26"
             ],
             [
              1,
              "#f0f921"
             ]
            ],
            "type": "contour"
           }
          ],
          "contourcarpet": [
           {
            "colorbar": {
             "outlinewidth": 0,
             "ticks": ""
            },
            "type": "contourcarpet"
           }
          ],
          "heatmap": [
           {
            "colorbar": {
             "outlinewidth": 0,
             "ticks": ""
            },
            "colorscale": [
             [
              0,
              "#0d0887"
             ],
             [
              0.1111111111111111,
              "#46039f"
             ],
             [
              0.2222222222222222,
              "#7201a8"
             ],
             [
              0.3333333333333333,
              "#9c179e"
             ],
             [
              0.4444444444444444,
              "#bd3786"
             ],
             [
              0.5555555555555556,
              "#d8576b"
             ],
             [
              0.6666666666666666,
              "#ed7953"
             ],
             [
              0.7777777777777778,
              "#fb9f3a"
             ],
             [
              0.8888888888888888,
              "#fdca26"
             ],
             [
              1,
              "#f0f921"
             ]
            ],
            "type": "heatmap"
           }
          ],
          "heatmapgl": [
           {
            "colorbar": {
             "outlinewidth": 0,
             "ticks": ""
            },
            "colorscale": [
             [
              0,
              "#0d0887"
             ],
             [
              0.1111111111111111,
              "#46039f"
             ],
             [
              0.2222222222222222,
              "#7201a8"
             ],
             [
              0.3333333333333333,
              "#9c179e"
             ],
             [
              0.4444444444444444,
              "#bd3786"
             ],
             [
              0.5555555555555556,
              "#d8576b"
             ],
             [
              0.6666666666666666,
              "#ed7953"
             ],
             [
              0.7777777777777778,
              "#fb9f3a"
             ],
             [
              0.8888888888888888,
              "#fdca26"
             ],
             [
              1,
              "#f0f921"
             ]
            ],
            "type": "heatmapgl"
           }
          ],
          "histogram": [
           {
            "marker": {
             "pattern": {
              "fillmode": "overlay",
              "size": 10,
              "solidity": 0.2
             }
            },
            "type": "histogram"
           }
          ],
          "histogram2d": [
           {
            "colorbar": {
             "outlinewidth": 0,
             "ticks": ""
            },
            "colorscale": [
             [
              0,
              "#0d0887"
             ],
             [
              0.1111111111111111,
              "#46039f"
             ],
             [
              0.2222222222222222,
              "#7201a8"
             ],
             [
              0.3333333333333333,
              "#9c179e"
             ],
             [
              0.4444444444444444,
              "#bd3786"
             ],
             [
              0.5555555555555556,
              "#d8576b"
             ],
             [
              0.6666666666666666,
              "#ed7953"
             ],
             [
              0.7777777777777778,
              "#fb9f3a"
             ],
             [
              0.8888888888888888,
              "#fdca26"
             ],
             [
              1,
              "#f0f921"
             ]
            ],
            "type": "histogram2d"
           }
          ],
          "histogram2dcontour": [
           {
            "colorbar": {
             "outlinewidth": 0,
             "ticks": ""
            },
            "colorscale": [
             [
              0,
              "#0d0887"
             ],
             [
              0.1111111111111111,
              "#46039f"
             ],
             [
              0.2222222222222222,
              "#7201a8"
             ],
             [
              0.3333333333333333,
              "#9c179e"
             ],
             [
              0.4444444444444444,
              "#bd3786"
             ],
             [
              0.5555555555555556,
              "#d8576b"
             ],
             [
              0.6666666666666666,
              "#ed7953"
             ],
             [
              0.7777777777777778,
              "#fb9f3a"
             ],
             [
              0.8888888888888888,
              "#fdca26"
             ],
             [
              1,
              "#f0f921"
             ]
            ],
            "type": "histogram2dcontour"
           }
          ],
          "mesh3d": [
           {
            "colorbar": {
             "outlinewidth": 0,
             "ticks": ""
            },
            "type": "mesh3d"
           }
          ],
          "parcoords": [
           {
            "line": {
             "colorbar": {
              "outlinewidth": 0,
              "ticks": ""
             }
            },
            "type": "parcoords"
           }
          ],
          "pie": [
           {
            "automargin": true,
            "type": "pie"
           }
          ],
          "scatter": [
           {
            "fillpattern": {
             "fillmode": "overlay",
             "size": 10,
             "solidity": 0.2
            },
            "type": "scatter"
           }
          ],
          "scatter3d": [
           {
            "line": {
             "colorbar": {
              "outlinewidth": 0,
              "ticks": ""
             }
            },
            "marker": {
             "colorbar": {
              "outlinewidth": 0,
              "ticks": ""
             }
            },
            "type": "scatter3d"
           }
          ],
          "scattercarpet": [
           {
            "marker": {
             "colorbar": {
              "outlinewidth": 0,
              "ticks": ""
             }
            },
            "type": "scattercarpet"
           }
          ],
          "scattergeo": [
           {
            "marker": {
             "colorbar": {
              "outlinewidth": 0,
              "ticks": ""
             }
            },
            "type": "scattergeo"
           }
          ],
          "scattergl": [
           {
            "marker": {
             "colorbar": {
              "outlinewidth": 0,
              "ticks": ""
             }
            },
            "type": "scattergl"
           }
          ],
          "scattermapbox": [
           {
            "marker": {
             "colorbar": {
              "outlinewidth": 0,
              "ticks": ""
             }
            },
            "type": "scattermapbox"
           }
          ],
          "scatterpolar": [
           {
            "marker": {
             "colorbar": {
              "outlinewidth": 0,
              "ticks": ""
             }
            },
            "type": "scatterpolar"
           }
          ],
          "scatterpolargl": [
           {
            "marker": {
             "colorbar": {
              "outlinewidth": 0,
              "ticks": ""
             }
            },
            "type": "scatterpolargl"
           }
          ],
          "scatterternary": [
           {
            "marker": {
             "colorbar": {
              "outlinewidth": 0,
              "ticks": ""
             }
            },
            "type": "scatterternary"
           }
          ],
          "surface": [
           {
            "colorbar": {
             "outlinewidth": 0,
             "ticks": ""
            },
            "colorscale": [
             [
              0,
              "#0d0887"
             ],
             [
              0.1111111111111111,
              "#46039f"
             ],
             [
              0.2222222222222222,
              "#7201a8"
             ],
             [
              0.3333333333333333,
              "#9c179e"
             ],
             [
              0.4444444444444444,
              "#bd3786"
             ],
             [
              0.5555555555555556,
              "#d8576b"
             ],
             [
              0.6666666666666666,
              "#ed7953"
             ],
             [
              0.7777777777777778,
              "#fb9f3a"
             ],
             [
              0.8888888888888888,
              "#fdca26"
             ],
             [
              1,
              "#f0f921"
             ]
            ],
            "type": "surface"
           }
          ],
          "table": [
           {
            "cells": {
             "fill": {
              "color": "#EBF0F8"
             },
             "line": {
              "color": "white"
             }
            },
            "header": {
             "fill": {
              "color": "#C8D4E3"
             },
             "line": {
              "color": "white"
             }
            },
            "type": "table"
           }
          ]
         },
         "layout": {
          "annotationdefaults": {
           "arrowcolor": "#2a3f5f",
           "arrowhead": 0,
           "arrowwidth": 1
          },
          "autotypenumbers": "strict",
          "coloraxis": {
           "colorbar": {
            "outlinewidth": 0,
            "ticks": ""
           }
          },
          "colorscale": {
           "diverging": [
            [
             0,
             "#8e0152"
            ],
            [
             0.1,
             "#c51b7d"
            ],
            [
             0.2,
             "#de77ae"
            ],
            [
             0.3,
             "#f1b6da"
            ],
            [
             0.4,
             "#fde0ef"
            ],
            [
             0.5,
             "#f7f7f7"
            ],
            [
             0.6,
             "#e6f5d0"
            ],
            [
             0.7,
             "#b8e186"
            ],
            [
             0.8,
             "#7fbc41"
            ],
            [
             0.9,
             "#4d9221"
            ],
            [
             1,
             "#276419"
            ]
           ],
           "sequential": [
            [
             0,
             "#0d0887"
            ],
            [
             0.1111111111111111,
             "#46039f"
            ],
            [
             0.2222222222222222,
             "#7201a8"
            ],
            [
             0.3333333333333333,
             "#9c179e"
            ],
            [
             0.4444444444444444,
             "#bd3786"
            ],
            [
             0.5555555555555556,
             "#d8576b"
            ],
            [
             0.6666666666666666,
             "#ed7953"
            ],
            [
             0.7777777777777778,
             "#fb9f3a"
            ],
            [
             0.8888888888888888,
             "#fdca26"
            ],
            [
             1,
             "#f0f921"
            ]
           ],
           "sequentialminus": [
            [
             0,
             "#0d0887"
            ],
            [
             0.1111111111111111,
             "#46039f"
            ],
            [
             0.2222222222222222,
             "#7201a8"
            ],
            [
             0.3333333333333333,
             "#9c179e"
            ],
            [
             0.4444444444444444,
             "#bd3786"
            ],
            [
             0.5555555555555556,
             "#d8576b"
            ],
            [
             0.6666666666666666,
             "#ed7953"
            ],
            [
             0.7777777777777778,
             "#fb9f3a"
            ],
            [
             0.8888888888888888,
             "#fdca26"
            ],
            [
             1,
             "#f0f921"
            ]
           ]
          },
          "colorway": [
           "#636efa",
           "#EF553B",
           "#00cc96",
           "#ab63fa",
           "#FFA15A",
           "#19d3f3",
           "#FF6692",
           "#B6E880",
           "#FF97FF",
           "#FECB52"
          ],
          "font": {
           "color": "#2a3f5f"
          },
          "geo": {
           "bgcolor": "white",
           "lakecolor": "white",
           "landcolor": "#E5ECF6",
           "showlakes": true,
           "showland": true,
           "subunitcolor": "white"
          },
          "hoverlabel": {
           "align": "left"
          },
          "hovermode": "closest",
          "mapbox": {
           "style": "light"
          },
          "paper_bgcolor": "white",
          "plot_bgcolor": "#E5ECF6",
          "polar": {
           "angularaxis": {
            "gridcolor": "white",
            "linecolor": "white",
            "ticks": ""
           },
           "bgcolor": "#E5ECF6",
           "radialaxis": {
            "gridcolor": "white",
            "linecolor": "white",
            "ticks": ""
           }
          },
          "scene": {
           "xaxis": {
            "backgroundcolor": "#E5ECF6",
            "gridcolor": "white",
            "gridwidth": 2,
            "linecolor": "white",
            "showbackground": true,
            "ticks": "",
            "zerolinecolor": "white"
           },
           "yaxis": {
            "backgroundcolor": "#E5ECF6",
            "gridcolor": "white",
            "gridwidth": 2,
            "linecolor": "white",
            "showbackground": true,
            "ticks": "",
            "zerolinecolor": "white"
           },
           "zaxis": {
            "backgroundcolor": "#E5ECF6",
            "gridcolor": "white",
            "gridwidth": 2,
            "linecolor": "white",
            "showbackground": true,
            "ticks": "",
            "zerolinecolor": "white"
           }
          },
          "shapedefaults": {
           "line": {
            "color": "#2a3f5f"
           }
          },
          "ternary": {
           "aaxis": {
            "gridcolor": "white",
            "linecolor": "white",
            "ticks": ""
           },
           "baxis": {
            "gridcolor": "white",
            "linecolor": "white",
            "ticks": ""
           },
           "bgcolor": "#E5ECF6",
           "caxis": {
            "gridcolor": "white",
            "linecolor": "white",
            "ticks": ""
           }
          },
          "title": {
           "x": 0.05
          },
          "xaxis": {
           "automargin": true,
           "gridcolor": "white",
           "linecolor": "white",
           "ticks": "",
           "title": {
            "standoff": 15
           },
           "zerolinecolor": "white",
           "zerolinewidth": 2
          },
          "yaxis": {
           "automargin": true,
           "gridcolor": "white",
           "linecolor": "white",
           "ticks": "",
           "title": {
            "standoff": 15
           },
           "zerolinecolor": "white",
           "zerolinewidth": 2
          }
         }
        },
        "title": {
         "text": "Residuals vs Predicted Values"
        },
        "xaxis": {
         "anchor": "y",
         "domain": [
          0,
          1
         ],
         "title": {
          "text": "Predicted Values"
         }
        },
        "yaxis": {
         "anchor": "x",
         "domain": [
          0,
          1
         ],
         "title": {
          "text": "Residuals"
         }
        }
       }
      }
     },
     "metadata": {},
     "output_type": "display_data"
    }
   ],
   "source": [
    "fig = px.scatter(x=predictions, y=residuals, labels={'x':'Predicted Values', 'y':'Residuals'})\n",
    "fig.update_layout(title='Residuals vs Predicted Values', xaxis_title='Predicted Values', yaxis_title='Residuals')\n",
    "# Add a horizontal line at residuals = 0\n",
    "fig.add_hline(y=0, line_dash=\"dash\", line_color=\"red\")\n",
    "fig.show()"
   ]
  },
  {
   "cell_type": "markdown",
   "metadata": {},
   "source": [
    "The spread of residuals is wider for larger predicted values which could be an indication of heterodescedasticity. There's a slight cone shape."
   ]
  },
  {
   "cell_type": "markdown",
   "metadata": {},
   "source": [
    "To statistically confirm these visual insights, you could perform additional tests, such as the Breusch-Pagan test or White's test, which are designed to detect heteroscedasticity. If heteroscedasticity is present, you might consider using weighted least squares (WLS) or other forms of heteroscedasticity-consistent standard errors to account for it.\n",
    "\n",
    "\n",
    "\n",
    "\n",
    "\n",
    "\n"
   ]
  },
  {
   "cell_type": "markdown",
   "metadata": {},
   "source": [
    "#### Outliers (Cook's Distance)"
   ]
  },
  {
   "cell_type": "code",
   "execution_count": 14,
   "metadata": {},
   "outputs": [
    {
     "name": "stdout",
     "output_type": "stream",
     "text": [
      "Influential Points (Outliers):\n",
      "[   5   10   62   71   75   79   82   86   99  116  142  144  158  174\n",
      "  211  225  232  299  348  357  384  385  387  400  437  454  537  548\n",
      "  636  638  651  675  681  700  708  726  727  728  785  839  840  843\n",
      "  850  875  910  911  918  935  941  945  964  983  990 1003 1017 1039\n",
      " 1051 1062 1078 1081 1098 1120 1123 1125 1128 1133 1138 1140 1147 1152\n",
      " 1158 1187 1202 1204 1226 1240 1277 1278 1281 1287 1331 1375]\n"
     ]
    }
   ],
   "source": [
    "def cooks_distance(X, y):\n",
    "    # Add intercept term to X\n",
    "    X_intercept = np.hstack([np.ones((X.shape[0], 1)), X.astype(int)])  # Ensure X is numeric\n",
    "\n",
    "    # Fit the model\n",
    "    model = LinearRegression(fit_intercept=False)\n",
    "    model.fit(X_intercept, y)\n",
    "    \n",
    "    # Get predictions and residuals\n",
    "    predictions = model.predict(X_intercept)\n",
    "    residuals = y - predictions\n",
    "    \n",
    "    # Calculate MSE\n",
    "    mse = np.mean(residuals**2)\n",
    "    \n",
    "    # Leverage (using pseudo-inverse)\n",
    "    H = X_intercept @ pinv(X_intercept.T @ X_intercept) @ X_intercept.T\n",
    "    h_ii = np.diag(H)\n",
    "    \n",
    "    # Cook's Distance\n",
    "    p = X_intercept.shape[1]\n",
    "    cooks_d = (residuals**2 / (p * mse)) * (h_ii / (1 - h_ii)**2)\n",
    "\n",
    "    # Identify influential points\n",
    "    n = X.shape[0]\n",
    "    threshold = 4 / n\n",
    "    influential_points = np.where(cooks_d > threshold)[0]\n",
    "\n",
    "    return cooks_d, influential_points\n",
    "\n",
    "cooks_d, influential_points = cooks_distance(X_train, y_train)\n",
    "\n",
    "# Print out the rows that are outliers\n",
    "print(\"Influential Points (Outliers):\")\n",
    "print(influential_points)\n"
   ]
  },
  {
   "cell_type": "code",
   "execution_count": 15,
   "metadata": {},
   "outputs": [
    {
     "data": {
      "text/html": [
       "<div>\n",
       "<style scoped>\n",
       "    .dataframe tbody tr th:only-of-type {\n",
       "        vertical-align: middle;\n",
       "    }\n",
       "\n",
       "    .dataframe tbody tr th {\n",
       "        vertical-align: top;\n",
       "    }\n",
       "\n",
       "    .dataframe thead th {\n",
       "        text-align: right;\n",
       "    }\n",
       "</style>\n",
       "<table border=\"1\" class=\"dataframe\">\n",
       "  <thead>\n",
       "    <tr style=\"text-align: right;\">\n",
       "      <th></th>\n",
       "      <th>number_of_rooms</th>\n",
       "      <th>area_size</th>\n",
       "      <th>has_elevator</th>\n",
       "      <th>year_built</th>\n",
       "      <th>annual_fee_sek</th>\n",
       "      <th>annual_cost_sek</th>\n",
       "      <th>region_processed_bromma</th>\n",
       "      <th>region_processed_centrala sundbyberg</th>\n",
       "      <th>region_processed_gröndal</th>\n",
       "      <th>region_processed_hammarby sjöstad</th>\n",
       "      <th>...</th>\n",
       "      <th>region_processed_årsta</th>\n",
       "      <th>region_processed_östermalm</th>\n",
       "      <th>has_balcony_nej</th>\n",
       "      <th>has_balcony_unknown</th>\n",
       "      <th>cleaned_floor_number</th>\n",
       "      <th>brokerage_firm_processed_erik olsson fastighetsförmedling</th>\n",
       "      <th>brokerage_firm_processed_fastighetsbyrån stockholm - södermalm</th>\n",
       "      <th>brokerage_firm_processed_länsförsäkringar fastighetsförmedling solna</th>\n",
       "      <th>brokerage_firm_processed_notar</th>\n",
       "      <th>brokerage_firm_processed_tradition mäkleri</th>\n",
       "    </tr>\n",
       "  </thead>\n",
       "  <tbody>\n",
       "    <tr>\n",
       "      <th>1360</th>\n",
       "      <td>2.0</td>\n",
       "      <td>44</td>\n",
       "      <td>False</td>\n",
       "      <td>1929.0</td>\n",
       "      <td>1950</td>\n",
       "      <td>0</td>\n",
       "      <td>False</td>\n",
       "      <td>False</td>\n",
       "      <td>False</td>\n",
       "      <td>False</td>\n",
       "      <td>...</td>\n",
       "      <td>False</td>\n",
       "      <td>True</td>\n",
       "      <td>False</td>\n",
       "      <td>True</td>\n",
       "      <td>1.0</td>\n",
       "      <td>False</td>\n",
       "      <td>False</td>\n",
       "      <td>False</td>\n",
       "      <td>False</td>\n",
       "      <td>False</td>\n",
       "    </tr>\n",
       "    <tr>\n",
       "      <th>1696</th>\n",
       "      <td>3.0</td>\n",
       "      <td>682</td>\n",
       "      <td>False</td>\n",
       "      <td>1897.0</td>\n",
       "      <td>4152</td>\n",
       "      <td>24600</td>\n",
       "      <td>False</td>\n",
       "      <td>False</td>\n",
       "      <td>False</td>\n",
       "      <td>False</td>\n",
       "      <td>...</td>\n",
       "      <td>False</td>\n",
       "      <td>False</td>\n",
       "      <td>False</td>\n",
       "      <td>True</td>\n",
       "      <td>0.0</td>\n",
       "      <td>False</td>\n",
       "      <td>False</td>\n",
       "      <td>False</td>\n",
       "      <td>False</td>\n",
       "      <td>False</td>\n",
       "    </tr>\n",
       "    <tr>\n",
       "      <th>168</th>\n",
       "      <td>3.0</td>\n",
       "      <td>86</td>\n",
       "      <td>True</td>\n",
       "      <td>1967.0</td>\n",
       "      <td>4320</td>\n",
       "      <td>0</td>\n",
       "      <td>False</td>\n",
       "      <td>False</td>\n",
       "      <td>False</td>\n",
       "      <td>False</td>\n",
       "      <td>...</td>\n",
       "      <td>False</td>\n",
       "      <td>False</td>\n",
       "      <td>False</td>\n",
       "      <td>False</td>\n",
       "      <td>2.0</td>\n",
       "      <td>False</td>\n",
       "      <td>True</td>\n",
       "      <td>False</td>\n",
       "      <td>False</td>\n",
       "      <td>False</td>\n",
       "    </tr>\n",
       "    <tr>\n",
       "      <th>1334</th>\n",
       "      <td>4.0</td>\n",
       "      <td>89</td>\n",
       "      <td>False</td>\n",
       "      <td>1964.0</td>\n",
       "      <td>5712</td>\n",
       "      <td>4800</td>\n",
       "      <td>False</td>\n",
       "      <td>False</td>\n",
       "      <td>False</td>\n",
       "      <td>False</td>\n",
       "      <td>...</td>\n",
       "      <td>False</td>\n",
       "      <td>False</td>\n",
       "      <td>False</td>\n",
       "      <td>False</td>\n",
       "      <td>3.0</td>\n",
       "      <td>False</td>\n",
       "      <td>False</td>\n",
       "      <td>False</td>\n",
       "      <td>False</td>\n",
       "      <td>False</td>\n",
       "    </tr>\n",
       "    <tr>\n",
       "      <th>910</th>\n",
       "      <td>2.0</td>\n",
       "      <td>32</td>\n",
       "      <td>True</td>\n",
       "      <td>1939.0</td>\n",
       "      <td>0</td>\n",
       "      <td>5735</td>\n",
       "      <td>False</td>\n",
       "      <td>False</td>\n",
       "      <td>False</td>\n",
       "      <td>False</td>\n",
       "      <td>...</td>\n",
       "      <td>False</td>\n",
       "      <td>True</td>\n",
       "      <td>False</td>\n",
       "      <td>False</td>\n",
       "      <td>1.0</td>\n",
       "      <td>False</td>\n",
       "      <td>False</td>\n",
       "      <td>False</td>\n",
       "      <td>False</td>\n",
       "      <td>False</td>\n",
       "    </tr>\n",
       "    <tr>\n",
       "      <th>...</th>\n",
       "      <td>...</td>\n",
       "      <td>...</td>\n",
       "      <td>...</td>\n",
       "      <td>...</td>\n",
       "      <td>...</td>\n",
       "      <td>...</td>\n",
       "      <td>...</td>\n",
       "      <td>...</td>\n",
       "      <td>...</td>\n",
       "      <td>...</td>\n",
       "      <td>...</td>\n",
       "      <td>...</td>\n",
       "      <td>...</td>\n",
       "      <td>...</td>\n",
       "      <td>...</td>\n",
       "      <td>...</td>\n",
       "      <td>...</td>\n",
       "      <td>...</td>\n",
       "      <td>...</td>\n",
       "      <td>...</td>\n",
       "      <td>...</td>\n",
       "    </tr>\n",
       "    <tr>\n",
       "      <th>104</th>\n",
       "      <td>2.0</td>\n",
       "      <td>41</td>\n",
       "      <td>True</td>\n",
       "      <td>1939.0</td>\n",
       "      <td>2900</td>\n",
       "      <td>4700</td>\n",
       "      <td>False</td>\n",
       "      <td>False</td>\n",
       "      <td>False</td>\n",
       "      <td>False</td>\n",
       "      <td>...</td>\n",
       "      <td>False</td>\n",
       "      <td>True</td>\n",
       "      <td>False</td>\n",
       "      <td>False</td>\n",
       "      <td>1.0</td>\n",
       "      <td>False</td>\n",
       "      <td>False</td>\n",
       "      <td>False</td>\n",
       "      <td>False</td>\n",
       "      <td>False</td>\n",
       "    </tr>\n",
       "    <tr>\n",
       "      <th>1436</th>\n",
       "      <td>2.0</td>\n",
       "      <td>39</td>\n",
       "      <td>True</td>\n",
       "      <td>1928.0</td>\n",
       "      <td>2545</td>\n",
       "      <td>3120</td>\n",
       "      <td>False</td>\n",
       "      <td>False</td>\n",
       "      <td>False</td>\n",
       "      <td>False</td>\n",
       "      <td>...</td>\n",
       "      <td>False</td>\n",
       "      <td>False</td>\n",
       "      <td>False</td>\n",
       "      <td>False</td>\n",
       "      <td>4.0</td>\n",
       "      <td>False</td>\n",
       "      <td>False</td>\n",
       "      <td>False</td>\n",
       "      <td>False</td>\n",
       "      <td>True</td>\n",
       "    </tr>\n",
       "    <tr>\n",
       "      <th>1860</th>\n",
       "      <td>1.0</td>\n",
       "      <td>28</td>\n",
       "      <td>False</td>\n",
       "      <td>1942.0</td>\n",
       "      <td>628</td>\n",
       "      <td>7800</td>\n",
       "      <td>False</td>\n",
       "      <td>False</td>\n",
       "      <td>False</td>\n",
       "      <td>False</td>\n",
       "      <td>...</td>\n",
       "      <td>False</td>\n",
       "      <td>True</td>\n",
       "      <td>False</td>\n",
       "      <td>True</td>\n",
       "      <td>1.0</td>\n",
       "      <td>False</td>\n",
       "      <td>False</td>\n",
       "      <td>False</td>\n",
       "      <td>False</td>\n",
       "      <td>False</td>\n",
       "    </tr>\n",
       "    <tr>\n",
       "      <th>653</th>\n",
       "      <td>3.0</td>\n",
       "      <td>88</td>\n",
       "      <td>True</td>\n",
       "      <td>2013.0</td>\n",
       "      <td>4214</td>\n",
       "      <td>6000</td>\n",
       "      <td>False</td>\n",
       "      <td>False</td>\n",
       "      <td>False</td>\n",
       "      <td>False</td>\n",
       "      <td>...</td>\n",
       "      <td>False</td>\n",
       "      <td>False</td>\n",
       "      <td>False</td>\n",
       "      <td>False</td>\n",
       "      <td>8.0</td>\n",
       "      <td>True</td>\n",
       "      <td>False</td>\n",
       "      <td>False</td>\n",
       "      <td>False</td>\n",
       "      <td>False</td>\n",
       "    </tr>\n",
       "    <tr>\n",
       "      <th>1144</th>\n",
       "      <td>3.0</td>\n",
       "      <td>745</td>\n",
       "      <td>True</td>\n",
       "      <td>2017.0</td>\n",
       "      <td>4210</td>\n",
       "      <td>0</td>\n",
       "      <td>False</td>\n",
       "      <td>False</td>\n",
       "      <td>False</td>\n",
       "      <td>False</td>\n",
       "      <td>...</td>\n",
       "      <td>False</td>\n",
       "      <td>False</td>\n",
       "      <td>False</td>\n",
       "      <td>False</td>\n",
       "      <td>5.0</td>\n",
       "      <td>False</td>\n",
       "      <td>False</td>\n",
       "      <td>True</td>\n",
       "      <td>False</td>\n",
       "      <td>False</td>\n",
       "    </tr>\n",
       "  </tbody>\n",
       "</table>\n",
       "<p>82 rows × 24 columns</p>\n",
       "</div>"
      ],
      "text/plain": [
       "      number_of_rooms  area_size  has_elevator  year_built  annual_fee_sek  \\\n",
       "1360              2.0         44         False      1929.0            1950   \n",
       "1696              3.0        682         False      1897.0            4152   \n",
       "168               3.0         86          True      1967.0            4320   \n",
       "1334              4.0         89         False      1964.0            5712   \n",
       "910               2.0         32          True      1939.0               0   \n",
       "...               ...        ...           ...         ...             ...   \n",
       "104               2.0         41          True      1939.0            2900   \n",
       "1436              2.0         39          True      1928.0            2545   \n",
       "1860              1.0         28         False      1942.0             628   \n",
       "653               3.0         88          True      2013.0            4214   \n",
       "1144              3.0        745          True      2017.0            4210   \n",
       "\n",
       "      annual_cost_sek  region_processed_bromma  \\\n",
       "1360                0                    False   \n",
       "1696            24600                    False   \n",
       "168                 0                    False   \n",
       "1334             4800                    False   \n",
       "910              5735                    False   \n",
       "...               ...                      ...   \n",
       "104              4700                    False   \n",
       "1436             3120                    False   \n",
       "1860             7800                    False   \n",
       "653              6000                    False   \n",
       "1144                0                    False   \n",
       "\n",
       "      region_processed_centrala sundbyberg  region_processed_gröndal  \\\n",
       "1360                                 False                     False   \n",
       "1696                                 False                     False   \n",
       "168                                  False                     False   \n",
       "1334                                 False                     False   \n",
       "910                                  False                     False   \n",
       "...                                    ...                       ...   \n",
       "104                                  False                     False   \n",
       "1436                                 False                     False   \n",
       "1860                                 False                     False   \n",
       "653                                  False                     False   \n",
       "1144                                 False                     False   \n",
       "\n",
       "      region_processed_hammarby sjöstad  ...  region_processed_årsta  \\\n",
       "1360                              False  ...                   False   \n",
       "1696                              False  ...                   False   \n",
       "168                               False  ...                   False   \n",
       "1334                              False  ...                   False   \n",
       "910                               False  ...                   False   \n",
       "...                                 ...  ...                     ...   \n",
       "104                               False  ...                   False   \n",
       "1436                              False  ...                   False   \n",
       "1860                              False  ...                   False   \n",
       "653                               False  ...                   False   \n",
       "1144                              False  ...                   False   \n",
       "\n",
       "      region_processed_östermalm  has_balcony_nej  has_balcony_unknown  \\\n",
       "1360                        True            False                 True   \n",
       "1696                       False            False                 True   \n",
       "168                        False            False                False   \n",
       "1334                       False            False                False   \n",
       "910                         True            False                False   \n",
       "...                          ...              ...                  ...   \n",
       "104                         True            False                False   \n",
       "1436                       False            False                False   \n",
       "1860                        True            False                 True   \n",
       "653                        False            False                False   \n",
       "1144                       False            False                False   \n",
       "\n",
       "      cleaned_floor_number  \\\n",
       "1360                   1.0   \n",
       "1696                   0.0   \n",
       "168                    2.0   \n",
       "1334                   3.0   \n",
       "910                    1.0   \n",
       "...                    ...   \n",
       "104                    1.0   \n",
       "1436                   4.0   \n",
       "1860                   1.0   \n",
       "653                    8.0   \n",
       "1144                   5.0   \n",
       "\n",
       "      brokerage_firm_processed_erik olsson fastighetsförmedling  \\\n",
       "1360                                              False           \n",
       "1696                                              False           \n",
       "168                                               False           \n",
       "1334                                              False           \n",
       "910                                               False           \n",
       "...                                                 ...           \n",
       "104                                               False           \n",
       "1436                                              False           \n",
       "1860                                              False           \n",
       "653                                                True           \n",
       "1144                                              False           \n",
       "\n",
       "      brokerage_firm_processed_fastighetsbyrån stockholm - södermalm  \\\n",
       "1360                                              False                \n",
       "1696                                              False                \n",
       "168                                                True                \n",
       "1334                                              False                \n",
       "910                                               False                \n",
       "...                                                 ...                \n",
       "104                                               False                \n",
       "1436                                              False                \n",
       "1860                                              False                \n",
       "653                                               False                \n",
       "1144                                              False                \n",
       "\n",
       "      brokerage_firm_processed_länsförsäkringar fastighetsförmedling solna  \\\n",
       "1360                                              False                      \n",
       "1696                                              False                      \n",
       "168                                               False                      \n",
       "1334                                              False                      \n",
       "910                                               False                      \n",
       "...                                                 ...                      \n",
       "104                                               False                      \n",
       "1436                                              False                      \n",
       "1860                                              False                      \n",
       "653                                               False                      \n",
       "1144                                               True                      \n",
       "\n",
       "      brokerage_firm_processed_notar  \\\n",
       "1360                           False   \n",
       "1696                           False   \n",
       "168                            False   \n",
       "1334                           False   \n",
       "910                            False   \n",
       "...                              ...   \n",
       "104                            False   \n",
       "1436                           False   \n",
       "1860                           False   \n",
       "653                            False   \n",
       "1144                           False   \n",
       "\n",
       "      brokerage_firm_processed_tradition mäkleri  \n",
       "1360                                       False  \n",
       "1696                                       False  \n",
       "168                                        False  \n",
       "1334                                       False  \n",
       "910                                        False  \n",
       "...                                          ...  \n",
       "104                                        False  \n",
       "1436                                        True  \n",
       "1860                                       False  \n",
       "653                                        False  \n",
       "1144                                       False  \n",
       "\n",
       "[82 rows x 24 columns]"
      ]
     },
     "execution_count": 15,
     "metadata": {},
     "output_type": "execute_result"
    }
   ],
   "source": [
    "X_train.iloc[influential_points]\n"
   ]
  },
  {
   "cell_type": "markdown",
   "metadata": {},
   "source": [
    "## *6. Save Baseline Model*"
   ]
  },
  {
   "cell_type": "code",
   "execution_count": 16,
   "metadata": {},
   "outputs": [
    {
     "data": {
      "text/plain": [
       "['../src/models/baseline_model.joblib']"
      ]
     },
     "execution_count": 16,
     "metadata": {},
     "output_type": "execute_result"
    }
   ],
   "source": [
    "dump(baseline_model, '../src/models/baseline_model.joblib')"
   ]
  }
 ],
 "metadata": {
  "kernelspec": {
   "display_name": "apartment_predictor",
   "language": "python",
   "name": "python3"
  },
  "language_info": {
   "codemirror_mode": {
    "name": "ipython",
    "version": 3
   },
   "file_extension": ".py",
   "mimetype": "text/x-python",
   "name": "python",
   "nbconvert_exporter": "python",
   "pygments_lexer": "ipython3",
   "version": "3.10.13"
  }
 },
 "nbformat": 4,
 "nbformat_minor": 2
}
